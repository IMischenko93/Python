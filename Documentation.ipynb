{
  "nbformat": 4,
  "nbformat_minor": 0,
  "metadata": {
    "colab": {
      "name": "BAP_Assignment_5.ipynb",
      "provenance": [],
      "collapsed_sections": []
    },
    "kernelspec": {
      "display_name": "Python 3",
      "language": "python",
      "name": "python3"
    },
    "language_info": {
      "codemirror_mode": {
        "name": "ipython",
        "version": 3
      },
      "file_extension": ".py",
      "mimetype": "text/x-python",
      "name": "python",
      "nbconvert_exporter": "python",
      "pygments_lexer": "ipython3",
      "version": "3.7.1"
    }
  },
  "cells": [
    {
      "cell_type": "markdown",
      "metadata": {
        "id": "5zCoCAG7JD6k"
      },
      "source": [
        "# Assignment 5\n",
        "This assignment relies heavily on the content covered in the week 5 notes.  Many of the operations you are asked to do here resemble those we went over in class.  Please make sure to reference lesson 5.1 and especially lesson 5.2 notes to guide you through these exercises.  You will need to examine the page:  https://www.marketwatch.com/investing/stock/aapl to understand the structure (tags, classes).  Note that for the sake of consistency, we will use a static version of the marketwatch page, the url for which is: https://web.archive.org/web/20211009000648/https://www.marketwatch.com/investing/stock/aapl\n",
        "\n",
        "#### Documentation\n",
        "[requests library](http://docs.python-requests.org/en/master/)  \n",
        "[beautifulsoup library](https://www.crummy.com/software/BeautifulSoup/bs4/doc/)  "
      ]
    },
    {
      "cell_type": "markdown",
      "metadata": {
        "id": "UqFPN2kzJD6r"
      },
      "source": [
        "This assignment will rely on the following libraries.  You will need to import them again as part of your functions. "
      ]
    },
    {
      "cell_type": "code",
      "metadata": {
        "id": "v10CasKEJD6r"
      },
      "source": [
        "#Packages\n",
        "#Web scraping packages\n",
        "from bs4 import BeautifulSoup\n",
        "import requests"
      ],
      "execution_count": null,
      "outputs": []
    },
    {
      "cell_type": "markdown",
      "metadata": {
        "id": "oOUEhRC1JD6t"
      },
      "source": [
        "### Problem 1\n",
        "This problem is all about web-scraping with requests and BeautifulSoup. Parts a - e are missing a few steps. Take some time to fill in the blanks and understand the operations. Part f is left for you to complete and will ask you to combine the operations in parts a - e into one cohesive function.  "
      ]
    },
    {
      "cell_type": "markdown",
      "metadata": {
        "id": "DDqcmpK7JD6u"
      },
      "source": [
        "a.  Run a get request to url=\"https://web.archive.org/web/20211009000648/https://www.marketwatch.com/investing/stock/aapl\".  If the status code is not 200, print \"request not successful\"."
      ]
    },
    {
      "cell_type": "code",
      "metadata": {
        "colab": {
          "base_uri": "https://localhost:8080/"
        },
        "id": "4ogOM04sJD6u",
        "outputId": "ef81d30c-6962-4780-c8c6-926724068f25"
      },
      "source": [
        "url=\"https://web.archive.org/web/20211009000648/https://www.marketwatch.com/investing/stock/aapl\"\n",
        "response=requests.---(url)\n",
        "if not response.---- == 200:\n",
        "    print(\"request not successful\")\n",
        "else:\n",
        "    print(url)"
      ],
      "execution_count": null,
      "outputs": [
        {
          "output_type": "stream",
          "name": "stdout",
          "text": [
            "https://web.archive.org/web/20211009000648/https://www.marketwatch.com/investing/stock/aapl\n"
          ]
        }
      ]
    },
    {
      "cell_type": "markdown",
      "metadata": {
        "id": "5V5xsW786jTv"
      },
      "source": [
        "**Expected Output**    \n",
        "https://web.archive.org/web/20211009000648/https://www.marketwatch.com/investing/stock/aapl"
      ]
    },
    {
      "cell_type": "markdown",
      "metadata": {
        "id": "VMygdKXvJD6x"
      },
      "source": [
        "b.  Referencing the above response, create BeautifulSoup object called \"results_page\" parsed with 'html.parser'."
      ]
    },
    {
      "cell_type": "code",
      "metadata": {
        "colab": {
          "base_uri": "https://localhost:8080/"
        },
        "id": "jqYG9ly2JD6x",
        "outputId": "d88f2560-efb8-49fb-d936-7286bf9b2123"
      },
      "source": [
        "# build the BeautifulSoup object and name it results_page\n",
        "results_page = -----(response.----,'html.parser')\n",
        "print(type(response))    "
      ],
      "execution_count": null,
      "outputs": [
        {
          "output_type": "stream",
          "name": "stdout",
          "text": [
            "<class 'requests.models.Response'>\n"
          ]
        }
      ]
    },
    {
      "cell_type": "markdown",
      "metadata": {
        "id": "SYiJju8o6n9I"
      },
      "source": [
        "**Expected Output**       \n",
        "<class 'requests.models.Response'>"
      ]
    },
    {
      "cell_type": "markdown",
      "metadata": {
        "id": "cysnKnAuJD6z"
      },
      "source": [
        "c.  On the webpage:  https://web.archive.org/web/20211009000648/https://www.marketwatch.com/investing/stock/aapl, look for the section called \"Key Data\".\n",
        "![key_data](https://drive.google.com/uc?id=1ZMDc-Q000J5fksE28mMfyIJbFQHvlLUe)\n",
        "\n",
        " Inspect the page and verify that the tag/class combination that uniquely identifies each of the items in this table is 'li'/'kv__item'.  Find all elements identified by a tag of 'li' and a class_='kv__item'.  PLEASE NOTE THE **TWO** UNDERSCORES in kv__item. "
      ]
    },
    {
      "cell_type": "code",
      "metadata": {
        "colab": {
          "base_uri": "https://localhost:8080/"
        },
        "id": "oiZYqOZVJD60",
        "outputId": "d1c338d8-ae04-4473-9ca6-d437ae1ce261"
      },
      "source": [
        "# find all elements with the tag \"li\" and class_=\"kv__item\"\n",
        "key_data = results_page.----('li',class_=\"kv__item\")\n",
        "# print the data type for the kv_data object\n",
        "print(type(key_data))"
      ],
      "execution_count": null,
      "outputs": [
        {
          "output_type": "stream",
          "name": "stdout",
          "text": [
            "<class 'bs4.element.ResultSet'>\n"
          ]
        }
      ]
    },
    {
      "cell_type": "markdown",
      "metadata": {
        "id": "tFLTWhte6th9"
      },
      "source": [
        "**Expected Output**   \n",
        "<class 'bs4.element.ResultSet'>"
      ]
    },
    {
      "cell_type": "markdown",
      "metadata": {
        "id": "e8WxreUnJD62"
      },
      "source": [
        "d. The code to answer the above question should have returned a list.  Print the first item in this list.  You should get:\n",
        "```\n",
        "<li class=\"kv__item\">\n",
        "<small class=\"label\">Open</small>\n",
        "<span class=\"primary \">$144.03</span>\n",
        "<span class=\"secondary no-value\"></span>\n",
        "</li>\n",
        "```"
      ]
    },
    {
      "cell_type": "code",
      "metadata": {
        "colab": {
          "base_uri": "https://localhost:8080/"
        },
        "id": "uMOJymXsJD63",
        "outputId": "0d096772-9fc3-4ed0-eb1d-5512237dc16d"
      },
      "source": [
        "# print the first element in \"key_data\"\n",
        "print(key_data[0])"
      ],
      "execution_count": null,
      "outputs": [
        {
          "output_type": "stream",
          "name": "stdout",
          "text": [
            "<li class=\"kv__item\">\n",
            "<small class=\"label\">Open</small>\n",
            "<span class=\"primary \">$144.03</span>\n",
            "<span class=\"secondary no-value\"></span>\n",
            "</li>\n"
          ]
        }
      ]
    },
    {
      "cell_type": "markdown",
      "metadata": {
        "id": "08v4A_je65rM"
      },
      "source": [
        "**Expected Output**   \n",
        "```\n",
        "<li class=\"kv__item\">\n",
        "<small class=\"label\">Open</small>\n",
        "<span class=\"primary \">$144.03</span>\n",
        "<span class=\"secondary no-value\"></span>\n",
        "</li>\n",
        "```"
      ]
    },
    {
      "cell_type": "markdown",
      "metadata": {
        "id": "ELHysHgpJD6-"
      },
      "source": [
        "Extract the label \"Open\" and the value \"$144.03\"\n",
        "\n",
        "![open_price](https://drive.google.com/uc?id=1OLQ3lVUd84dVytXft1K1GPffcb-ejbxq)\n",
        "\n",
        "Note:  values may differ."
      ]
    },
    {
      "cell_type": "code",
      "metadata": {
        "colab": {
          "base_uri": "https://localhost:8080/"
        },
        "id": "2L2gWTa8JD6_",
        "outputId": "86f95d2e-498b-405a-b7d9-2430491b8055"
      },
      "source": [
        "label=key_data[0].----(----, class_=\"label\").get_text()\n",
        "primary_val=key_data[0].find('span',class_=----).----()\n",
        "print(label)\n",
        "print(primary_val)"
      ],
      "execution_count": null,
      "outputs": [
        {
          "output_type": "stream",
          "name": "stdout",
          "text": [
            "Open\n",
            "$144.03\n"
          ]
        }
      ]
    },
    {
      "cell_type": "markdown",
      "metadata": {
        "id": "heN0M5Ep7A7t"
      },
      "source": [
        "**Expected Output**\n",
        "```\n",
        "Open\n",
        "$144.03\n",
        "```"
      ]
    },
    {
      "cell_type": "markdown",
      "metadata": {
        "id": "80xuZwYuJD7C"
      },
      "source": [
        "e.  We need to be able to extract the text for each of the items in the key_data object.  Write a for loop to extract the label and primary value creating a list of the form [(label, value), (label,value),...]"
      ]
    },
    {
      "cell_type": "code",
      "metadata": {
        "colab": {
          "base_uri": "https://localhost:8080/"
        },
        "id": "jD2yj1IjJD7C",
        "outputId": "a633abaa-6e83-4e02-a509-4b36263dadcf"
      },
      "source": [
        "kd_list=[]\n",
        "for kv_item in key_data:\n",
        "    label=kv_item.find('small', class_=----).----()\n",
        "    value=kv_item.----(----,class_=\"primary\").get_text()\n",
        "    kd_list.----((label,value))\n",
        "print(kd_list)"
      ],
      "execution_count": null,
      "outputs": [
        {
          "output_type": "stream",
          "name": "stdout",
          "text": [
            "[('Open', '$144.03'), ('Day Range', '142.56 - 144.18'), ('52 Week Range', '107.32 - 157.26'), ('Market Cap', '$2.37T'), ('Shares Outstanding', '17.34B'), ('Public Float', '16.51B'), ('Beta', '1.20'), ('Rev. per Employee', '$1.865M'), ('P/E Ratio', '27.99'), ('EPS', '$5.11'), ('Yield', '0.62%'), ('Dividend', '$0.22'), ('Ex-Dividend Date', 'Aug 6, 2021'), ('Short Interest', '100.93M'), ('% of Float Shorted', '0.61%'), ('Average Volume', '80.12M')]\n"
          ]
        }
      ]
    },
    {
      "cell_type": "markdown",
      "metadata": {
        "id": "eziburF57KZF"
      },
      "source": [
        "**Expected Output**\n",
        "```\n",
        "[('Open', '$144.03'), ('Day Range', '142.56 - 144.18'), ('52 Week Range', '107.32 - 157.26'), ('Market Cap', '$2.37T'), ('Shares Outstanding', '17.34B'), ('Public Float', '16.51B'), ('Beta', '1.20'), ('Rev. per Employee', '$1.865M'), ('P/E Ratio', '27.99'), ('EPS', '$5.11'), ('Yield', '0.62%'), ('Dividend', '$0.22'), ('Ex-Dividend Date', 'Aug 6, 2021'), ('Short Interest', '100.93M'), ('% of Float Shorted', '0.61%'), ('Average Volume', '80.12M')]\n",
        "```"
      ]
    },
    {
      "cell_type": "markdown",
      "metadata": {
        "id": "9VFnvb1BJD7E"
      },
      "source": [
        "f.  Combine all of the above into a function that accepts a stock symbol as an argument and returns the list of (label, value) pairs in the form \n",
        "```\n",
        "[('Open', '$144.03'), ('Day Range', '142.56 - 144.18'), ('52 Week Range', '107.32 - 157.26'), ('Market Cap', '$2.37T'), ('Shares Outstanding', '17.34B'), ('Public Float', '16.51B'), ('Beta', '1.20'), ('Rev. per Employee', '$1.865M'), ('P/E Ratio', '27.99'), ('EPS', '$5.11'), ('Yield', '0.62%'), ('Dividend', '$0.22'), ('Ex-Dividend Date', 'Aug 6, 2021'), ('Short Interest', '100.93M'), ('% of Float Shorted', '0.61%'), ('Average Volume', '80.12M')]\n",
        "```.  "
      ]
    },
    {
      "cell_type": "code",
      "metadata": {
        "id": "tfKTp4ZJJD7E"
      },
      "source": [
        "def get_key_data(symbol):\n",
        "    # import the necessary libraries\n",
        "    import requests\n",
        "    from bs4 import BeautifulSoup\n",
        "    url = \"https://web.archive.org/web/20211009000648/https://www.marketwatch.com/investing/stock/\"+ symbol\n",
        "    response = ----.----(----)\n",
        "    if not ----.----==----:\n",
        "        return None\n",
        "    kd_list=[]\n",
        "    try:\n",
        "        results_page=----(----.----, 'html.parser')\n",
        "        key_data = results_page.----(----,class_=----)\n",
        "        for kv_item in key_data:\n",
        "            label=----.----(----, ----=----).----()\n",
        "            value=----.----(----, ----=----).----()\n",
        "            kd_list.----((----,----))\n",
        "        return kd_list\n",
        "    except:\n",
        "        return None\n",
        "            "
      ],
      "execution_count": null,
      "outputs": []
    },
    {
      "cell_type": "markdown",
      "metadata": {
        "id": "52mzPWlHJD7H"
      },
      "source": [
        "Run the function"
      ]
    },
    {
      "cell_type": "code",
      "metadata": {
        "colab": {
          "base_uri": "https://localhost:8080/"
        },
        "id": "8CwasIXqJD7H",
        "outputId": "3b0cf85f-385f-4853-e928-17c08eecd857"
      },
      "source": [
        "results_a = get_key_data(\"aapl\")"
      ],
      "execution_count": null,
      "outputs": [
        {
          "output_type": "stream",
          "name": "stdout",
          "text": [
            "[('Open', '$144.03'), ('Day Range', '142.56 - 144.18'), ('52 Week Range', '107.32 - 157.26'), ('Market Cap', '$2.37T'), ('Shares Outstanding', '17.34B'), ('Public Float', '16.51B'), ('Beta', '1.20'), ('Rev. per Employee', '$1.865M'), ('P/E Ratio', '27.99'), ('EPS', '$5.11'), ('Yield', '0.62%'), ('Dividend', '$0.22'), ('Ex-Dividend Date', 'Aug 6, 2021'), ('Short Interest', '100.93M'), ('% of Float Shorted', '0.61%'), ('Average Volume', '80.12M')]\n"
          ]
        }
      ]
    },
    {
      "cell_type": "markdown",
      "metadata": {
        "id": "DI6imFFf3s5K"
      },
      "source": [
        "Expected Output\n",
        "```\n",
        "[('Open', '$144.03'), ('Day Range', '142.56 - 144.18'), ('52 Week Range', '107.32 - 157.26'), ('Market Cap', '$2.37T'), ('Shares Outstanding', '17.34B'), ('Public Float', '16.51B'), ('Beta', '1.20'), ('Rev. per Employee', '$1.865M'), ('P/E Ratio', '27.99'), ('EPS', '$5.11'), ('Yield', '0.62%'), ('Dividend', '$0.22'), ('Ex-Dividend Date', 'Aug 6, 2021'), ('Short Interest', '100.93M'), ('% of Float Shorted', '0.61%'), ('Average Volume', '80.12M')]\n",
        "```"
      ]
    },
    {
      "cell_type": "code",
      "metadata": {
        "colab": {
          "base_uri": "https://localhost:8080/"
        },
        "id": "XKtkMD8QdEHs",
        "outputId": "53654470-8a44-47fc-8db8-4e9b3b11fda0"
      },
      "source": [
        "results_g = get_key_data(\"goog\")"
      ],
      "execution_count": null,
      "outputs": [
        {
          "output_type": "stream",
          "name": "stdout",
          "text": [
            "[('Open', '$2,798.12'), ('Day Range', '2,788.59 - 2,806.34'), ('52 Week Range', '1,489.45 - 2,936.41'), ('Market Cap', '$1.86T'), ('Shares Outstanding', '320.17M'), ('Public Float', '279.85M'), ('Beta', '1.08'), ('Rev. per Employee', '$1.348M'), ('P/E Ratio', '30.39'), ('EPS', '$92.24'), ('Yield', 'N/A'), ('Dividend', 'N/A'), ('Ex-Dividend Date', 'N/A'), ('Short Interest', '2.64M'), ('% of Float Shorted', '0.94%'), ('Average Volume', '1.05M')]\n"
          ]
        }
      ]
    },
    {
      "cell_type": "markdown",
      "metadata": {
        "id": "9orc1t3H32F0"
      },
      "source": [
        "Expected Output\n",
        "```\n",
        "[('Open', '$2,798.12'), ('Day Range', '2,788.59 - 2,806.34'), ('52 Week Range', '1,489.45 - 2,936.41'), ('Market Cap', '$1.86T'), ('Shares Outstanding', '320.17M'), ('Public Float', '279.85M'), ('Beta', '1.08'), ('Rev. per Employee', '$1.348M'), ('P/E Ratio', '30.39'), ('EPS', '$92.24'), ('Yield', 'N/A'), ('Dividend', 'N/A'), ('Ex-Dividend Date', 'N/A'), ('Short Interest', '2.64M'), ('% of Float Shorted', '0.94%'), ('Average Volume', '1.05M')]\n",
        "```"
      ]
    },
    {
      "cell_type": "code",
      "metadata": {
        "colab": {
          "base_uri": "https://localhost:8080/"
        },
        "id": "m-yd84vbdWE3",
        "outputId": "b3055d56-537b-4ac9-af25-2a1221d47624"
      },
      "source": [
        "results_m = get_key_data(\"msft\")"
      ],
      "execution_count": null,
      "outputs": [
        {
          "output_type": "stream",
          "name": "stdout",
          "text": [
            "[('Open', '$296.22'), ('Day Range', '293.76 - 296.64'), ('52 Week Range', '199.62 - 305.84'), ('Market Cap', '$2.22T'), ('Shares Outstanding', '7.51B'), ('Public Float', '7.4B'), ('Beta', '1.19'), ('Rev. per Employee', '$928.66K'), ('P/E Ratio', '36.60'), ('EPS', '$8.06'), ('Yield', '0.84%'), ('Dividend', '$0.62'), ('Ex-Dividend Date', 'Nov 17, 2021'), ('Short Interest', '44.2M'), ('% of Float Shorted', '0.60%'), ('Average Volume', '23.03M')]\n"
          ]
        }
      ]
    },
    {
      "cell_type": "markdown",
      "metadata": {
        "id": "4__rFez03_fr"
      },
      "source": [
        "Expected Output\n",
        "```\n",
        "[('Open', '$296.22'), ('Day Range', '293.76 - 296.64'), ('52 Week Range', '199.62 - 305.84'), ('Market Cap', '$2.22T'), ('Shares Outstanding', '7.51B'), ('Public Float', '7.4B'), ('Beta', '1.19'), ('Rev. per Employee', '$928.66K'), ('P/E Ratio', '36.60'), ('EPS', '$8.06'), ('Yield', '0.84%'), ('Dividend', '$0.62'), ('Ex-Dividend Date', 'Nov 17, 2021'), ('Short Interest', '44.2M'), ('% of Float Shorted', '0.60%'), ('Average Volume', '23.03M')]\n",
        "```"
      ]
    },
    {
      "cell_type": "markdown",
      "metadata": {
        "id": "kMCNzIsQwIMv"
      },
      "source": [
        "Extra Tests"
      ]
    },
    {
      "cell_type": "code",
      "metadata": {
        "colab": {
          "base_uri": "https://localhost:8080/"
        },
        "id": "OEJqL_YBwJtz",
        "outputId": "95910fd7-7c36-40e3-e237-2e1179c2e3dc"
      },
      "source": [
        "results_m = get_key_data(\"pfe\")"
      ],
      "execution_count": null,
      "outputs": [
        {
          "output_type": "stream",
          "name": "stdout",
          "text": [
            "[('Open', '$42.73'), ('Day Range', '42.34 - 42.91'), ('52 Week Range', '32.78 - 51.86'), ('Market Cap', '$239.63B'), ('Shares Outstanding', 'N/A'), ('Public Float', '5.6B'), ('Beta', '0.67'), ('Rev. per Employee', '$533.86K'), ('P/E Ratio', '18.20'), ('EPS', '$2.34'), ('Yield', '3.67%'), ('Dividend', '$0.39'), ('Ex-Dividend Date', 'Nov 4, 2021'), ('Short Interest', '54.09M'), ('% of Float Shorted', '0.97%'), ('Average Volume', '32.61M')]\n"
          ]
        }
      ]
    },
    {
      "cell_type": "code",
      "metadata": {
        "colab": {
          "base_uri": "https://localhost:8080/"
        },
        "id": "t2x5Ho1MwL0I",
        "outputId": "155efcb4-42df-4591-9c21-0024af1274d4"
      },
      "source": [
        "results_m = get_key_data(\"mrna\")"
      ],
      "execution_count": null,
      "outputs": [
        {
          "output_type": "stream",
          "name": "stdout",
          "text": [
            "[('Open', '$310.80'), ('Day Range', '297.54 - 314.05'), ('52 Week Range', '65.49 - 497.49'), ('Market Cap', '$124.87B'), ('Shares Outstanding', '403.65M'), ('Public Float', '344.8M'), ('Beta', '0.28'), ('Rev. per Employee', '$618.00K'), ('P/E Ratio', '38.06'), ('EPS', '$8.01'), ('Yield', 'N/A'), ('Dividend', 'N/A'), ('Ex-Dividend Date', 'N/A'), ('Short Interest', '14.3M'), ('% of Float Shorted', '4.15%'), ('Average Volume', '19.35M')]\n"
          ]
        }
      ]
    },
    {
      "cell_type": "code",
      "metadata": {
        "colab": {
          "base_uri": "https://localhost:8080/"
        },
        "id": "rPKq7R_HwLhH",
        "outputId": "37dbc0aa-3ee8-45e9-a1d9-2d9105d71c55"
      },
      "source": [
        "results_m = get_key_data(\"jnj\")"
      ],
      "execution_count": null,
      "outputs": [
        {
          "output_type": "stream",
          "name": "stdout",
          "text": [
            "[('Open', '$161.32'), ('Day Range', '160.25 - 161.61'), ('52 Week Range', '133.65 - 179.92'), ('Market Cap', '$424.72B'), ('Shares Outstanding', '2.63B'), ('Public Float', '2.63B'), ('Beta', '0.64'), ('Rev. per Employee', '$613.92K'), ('P/E Ratio', '24.20'), ('EPS', '$6.65'), ('Yield', '2.63%'), ('Dividend', '$1.06'), ('Ex-Dividend Date', 'Aug 23, 2021'), ('Short Interest', '17.27M'), ('% of Float Shorted', '0.66%'), ('Average Volume', '5.88M')]\n"
          ]
        }
      ]
    }
  ]
}