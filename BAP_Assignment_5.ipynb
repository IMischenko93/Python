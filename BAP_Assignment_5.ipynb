{
  "nbformat": 4,
  "nbformat_minor": 0,
  "metadata": {
    "colab": {
      "name": "Copy of Copy of Copy of BAP_Assignment_5_Ivan",
      "provenance": [],
      "collapsed_sections": []
    },
    "kernelspec": {
      "display_name": "Python 3",
      "language": "python",
      "name": "python3"
    },
    "language_info": {
      "codemirror_mode": {
        "name": "ipython",
        "version": 3
      },
      "file_extension": ".py",
      "mimetype": "text/x-python",
      "name": "python",
      "nbconvert_exporter": "python",
      "pygments_lexer": "ipython3",
      "version": "3.7.1"
    }
  },
  "cells": [
    {
      "cell_type": "markdown",
      "metadata": {
        "id": "5zCoCAG7JD6k"
      },
      "source": [
        "# Assignment 5\n",
        "This assignment relies heavily on the content covered in the week 5 notes.  Many of the operations you are asked to do here resemble those we went over in class.  Please make sure to reference lesson 5.1 and especially lesson 5.2 notes to guide you through these exercises.  You will need to examine the page:  https://www.marketwatch.com/investing/stock/aapl to understand the structure (tags, classes).  Note that for the sake of consistency, we will use a static version of the marketwatch page, the url for which is: https://web.archive.org/web/20211009000648/https://www.marketwatch.com/investing/stock/aapl\n",
        "\n",
        "#### Documentation\n",
        "[requests library](http://docs.python-requests.org/en/master/)  \n",
        "[beautifulsoup library](https://www.crummy.com/software/BeautifulSoup/bs4/doc/)  "
      ]
    },
    {
      "cell_type": "markdown",
      "metadata": {
        "id": "UqFPN2kzJD6r"
      },
      "source": [
        "This assignment will rely on the following libraries.  You will need to import them again as part of your functions. "
      ]
    },
    {
      "cell_type": "code",
      "metadata": {
        "id": "v10CasKEJD6r"
      },
      "source": [
        "#Packages\n",
        "#Web scraping packages\n",
        "from bs4 import BeautifulSoup\n",
        "import requests"
      ],
      "execution_count": 1,
      "outputs": []
    },
    {
      "cell_type": "markdown",
      "metadata": {
        "id": "oOUEhRC1JD6t"
      },
      "source": [
        "### Problem 1\n",
        "This problem is all about web-scraping with requests and BeautifulSoup. Parts a - e are missing a few steps. Take some time to fill in the blanks and understand the operations. Part f is left for you to complete and will ask you to combine the operations in parts a - e into one cohesive function.  "
      ]
    },
    {
      "cell_type": "markdown",
      "metadata": {
        "id": "DDqcmpK7JD6u"
      },
      "source": [
        "a.  Run a get request to url=\"https://web.archive.org/web/20211009000648/https://www.marketwatch.com/investing/stock/aapl\".  If the status code is not 200, print \"request not successful\"."
      ]
    },
    {
      "cell_type": "code",
      "metadata": {
        "colab": {
          "base_uri": "https://localhost:8080/"
        },
        "id": "4ogOM04sJD6u",
        "outputId": "c6c0e6e8-c070-49c6-ece6-1c778fdb7eeb"
      },
      "source": [
        "url=\"https://web.archive.org/web/20211009000648/https://www.marketwatch.com/investing/stock/aapl\"\n",
        "response=requests.get(url)\n",
        "if not response.status_code == 200:\n",
        "    print(\"request not successful\")\n",
        "else:\n",
        "    print(url)"
      ],
      "execution_count": 2,
      "outputs": [
        {
          "output_type": "stream",
          "name": "stdout",
          "text": [
            "https://web.archive.org/web/20211009000648/https://www.marketwatch.com/investing/stock/aapl\n"
          ]
        }
      ]
    },
    {
      "cell_type": "markdown",
      "metadata": {
        "id": "5V5xsW786jTv"
      },
      "source": [
        "**Expected Output**    \n",
        "https://web.archive.org/web/20211009000648/https://www.marketwatch.com/investing/stock/aapl"
      ]
    },
    {
      "cell_type": "markdown",
      "metadata": {
        "id": "VMygdKXvJD6x"
      },
      "source": [
        "b.  Referencing the above response, create BeautifulSoup object called \"results_page\" parsed with 'html.parser'."
      ]
    },
    {
      "cell_type": "code",
      "metadata": {
        "colab": {
          "base_uri": "https://localhost:8080/"
        },
        "id": "jqYG9ly2JD6x",
        "outputId": "09e1fa6e-d342-48df-cbe6-110e981719bc"
      },
      "source": [
        "# build the BeautifulSoup object and name it results_page\n",
        "results_page = BeautifulSoup(response.text,'html.parser')\n",
        "print(type(response))    "
      ],
      "execution_count": 3,
      "outputs": [
        {
          "output_type": "stream",
          "name": "stdout",
          "text": [
            "<class 'requests.models.Response'>\n"
          ]
        }
      ]
    },
    {
      "cell_type": "markdown",
      "metadata": {
        "id": "SYiJju8o6n9I"
      },
      "source": [
        "**Expected Output**       \n",
        "<class 'requests.models.Response'>"
      ]
    },
    {
      "cell_type": "markdown",
      "metadata": {
        "id": "cysnKnAuJD6z"
      },
      "source": [
        "c.  On the webpage:  https://web.archive.org/web/20211009000648/https://www.marketwatch.com/investing/stock/aapl, look for the section called \"Key Data\".\n",
        "![key_data](https://drive.google.com/uc?id=1ZMDc-Q000J5fksE28mMfyIJbFQHvlLUe)\n",
        "\n",
        " Inspect the page and verify that the tag/class combination that uniquely identifies each of the items in this table is 'li'/'kv__item'.  Find all elements identified by a tag of 'li' and a class_='kv__item'.  PLEASE NOTE THE **TWO** UNDERSCORES in kv__item. "
      ]
    },
    {
      "cell_type": "code",
      "metadata": {
        "colab": {
          "base_uri": "https://localhost:8080/"
        },
        "id": "oiZYqOZVJD60",
        "outputId": "290e7376-2c22-4173-9d6c-3dbf3f24eb2b"
      },
      "source": [
        "# find all elements with the tag \"li\" and class_=\"kv__item\"\n",
        "key_data = results_page.find_all('li',class_=\"kv__item\")\n",
        "# print the data type for the kv_data object\n",
        "print(type(key_data))"
      ],
      "execution_count": 4,
      "outputs": [
        {
          "output_type": "stream",
          "name": "stdout",
          "text": [
            "<class 'bs4.element.ResultSet'>\n"
          ]
        }
      ]
    },
    {
      "cell_type": "markdown",
      "metadata": {
        "id": "tFLTWhte6th9"
      },
      "source": [
        "**Expected Output**   \n",
        "<class 'bs4.element.ResultSet'>"
      ]
    },
    {
      "cell_type": "markdown",
      "metadata": {
        "id": "e8WxreUnJD62"
      },
      "source": [
        "d. The code to answer the above question should have returned a list.  Print the first item in this list.  You should get:\n",
        "```\n",
        "<li class=\"kv__item\">\n",
        "<small class=\"label\">Open</small>\n",
        "<span class=\"primary \">$144.03</span>\n",
        "<span class=\"secondary no-value\"></span>\n",
        "</li>\n",
        "```"
      ]
    },
    {
      "cell_type": "code",
      "metadata": {
        "colab": {
          "base_uri": "https://localhost:8080/"
        },
        "id": "uMOJymXsJD63",
        "outputId": "80bbf2fd-186a-46c7-8b9d-edb54336e25e"
      },
      "source": [
        "# print the first element in \"key_data\"\n",
        "print(key_data[0])"
      ],
      "execution_count": 5,
      "outputs": [
        {
          "output_type": "stream",
          "name": "stdout",
          "text": [
            "<li class=\"kv__item\">\n",
            "<small class=\"label\">Open</small>\n",
            "<span class=\"primary \">$144.03</span>\n",
            "<span class=\"secondary no-value\"></span>\n",
            "</li>\n"
          ]
        }
      ]
    },
    {
      "cell_type": "markdown",
      "metadata": {
        "id": "08v4A_je65rM"
      },
      "source": [
        "**Expected Output**   \n",
        "```\n",
        "<li class=\"kv__item\">\n",
        "<small class=\"label\">Open</small>\n",
        "<span class=\"primary \">$144.03</span>\n",
        "<span class=\"secondary no-value\"></span>\n",
        "</li>\n",
        "```"
      ]
    },
    {
      "cell_type": "markdown",
      "metadata": {
        "id": "ELHysHgpJD6-"
      },
      "source": [
        "Extract the label \"Open\" and the value \"$144.03\"\n",
        "\n",
        "![open_price](https://drive.google.com/uc?id=1OLQ3lVUd84dVytXft1K1GPffcb-ejbxq)\n",
        "\n",
        "Note:  values may differ."
      ]
    },
    {
      "cell_type": "code",
      "metadata": {
        "colab": {
          "base_uri": "https://localhost:8080/"
        },
        "id": "2L2gWTa8JD6_",
        "outputId": "d59a38f1-2264-4492-e2b0-b51cbe65ce24"
      },
      "source": [
        "label=key_data[0].find(\"small\",class_=\"label\").get_text()\n",
        "primary_val=key_data[0].find('span',class_=\"primary\").get_text()\n",
        "print(label)\n",
        "print(primary_val)"
      ],
      "execution_count": 6,
      "outputs": [
        {
          "output_type": "stream",
          "name": "stdout",
          "text": [
            "Open\n",
            "$144.03\n"
          ]
        }
      ]
    },
    {
      "cell_type": "markdown",
      "metadata": {
        "id": "heN0M5Ep7A7t"
      },
      "source": [
        "**Expected Output**\n",
        "```\n",
        "Open\n",
        "$144.03\n",
        "```"
      ]
    },
    {
      "cell_type": "markdown",
      "metadata": {
        "id": "80xuZwYuJD7C"
      },
      "source": [
        "e.  We need to be able to extract the text for each of the items in the key_data object.  Write a for loop to extract the label and primary value creating a list of the form [(label, value), (label,value),...]"
      ]
    },
    {
      "cell_type": "code",
      "metadata": {
        "colab": {
          "base_uri": "https://localhost:8080/"
        },
        "id": "jD2yj1IjJD7C",
        "outputId": "0b9daf68-cb8b-492a-9abd-bde8d68c6019"
      },
      "source": [
        "kd_list=[]\n",
        "for kv_item in key_data:\n",
        "    label=kv_item.find('small', class_=\"label\").get_text()\n",
        "    value=kv_item.find('span',class_=\"primary\").get_text()\n",
        "    kd_list.append((label,value))\n",
        "print(kd_list)"
      ],
      "execution_count": 7,
      "outputs": [
        {
          "output_type": "stream",
          "name": "stdout",
          "text": [
            "[('Open', '$144.03'), ('Day Range', '142.56 - 144.18'), ('52 Week Range', '107.32 - 157.26'), ('Market Cap', '$2.37T'), ('Shares Outstanding', '17.34B'), ('Public Float', '16.51B'), ('Beta', '1.20'), ('Rev. per Employee', '$1.865M'), ('P/E Ratio', '27.99'), ('EPS', '$5.11'), ('Yield', '0.62%'), ('Dividend', '$0.22'), ('Ex-Dividend Date', 'Aug 6, 2021'), ('Short Interest', '100.93M'), ('% of Float Shorted', '0.61%'), ('Average Volume', '80.12M')]\n"
          ]
        }
      ]
    },
    {
      "cell_type": "markdown",
      "metadata": {
        "id": "eziburF57KZF"
      },
      "source": [
        "**Expected Output**\n",
        "```\n",
        "[('Open', '$144.03'), ('Day Range', '142.56 - 144.18'), ('52 Week Range', '107.32 - 157.26'), ('Market Cap', '$2.37T'), ('Shares Outstanding', '17.34B'), ('Public Float', '16.51B'), ('Beta', '1.20'), ('Rev. per Employee', '$1.865M'), ('P/E Ratio', '27.99'), ('EPS', '$5.11'), ('Yield', '0.62%'), ('Dividend', '$0.22'), ('Ex-Dividend Date', 'Aug 6, 2021'), ('Short Interest', '100.93M'), ('% of Float Shorted', '0.61%'), ('Average Volume', '80.12M')]\n",
        "```"
      ]
    },
    {
      "cell_type": "markdown",
      "metadata": {
        "id": "9VFnvb1BJD7E"
      },
      "source": [
        "f.  Combine all of the above into a function that accepts a stock symbol as an argument and returns the list of (label, value) pairs in the form \n",
        "```\n",
        "[('Open', '$144.03'), ('Day Range', '142.56 - 144.18'), ('52 Week Range', '107.32 - 157.26'), ('Market Cap', '$2.37T'), ('Shares Outstanding', '17.34B'), ('Public Float', '16.51B'), ('Beta', '1.20'), ('Rev. per Employee', '$1.865M'), ('P/E Ratio', '27.99'), ('EPS', '$5.11'), ('Yield', '0.62%'), ('Dividend', '$0.22'), ('Ex-Dividend Date', 'Aug 6, 2021'), ('Short Interest', '100.93M'), ('% of Float Shorted', '0.61%'), ('Average Volume', '80.12M')]\n",
        "```.  "
      ]
    },
    {
      "cell_type": "code",
      "metadata": {
        "id": "tfKTp4ZJJD7E"
      },
      "source": [
        "def get_key_data(symbol):\n",
        "    # import the necessary libraries\n",
        "    import requests\n",
        "    from bs4 import BeautifulSoup\n",
        "    url = \"https://web.archive.org/web/20211009000648/https://www.marketwatch.com/investing/stock/\"+ symbol\n",
        "    response = requests.get(url)\n",
        "    if not response.status_code == 200:\n",
        "        return None\n",
        "    kd_list=[]\n",
        "    try:\n",
        "        results_page=BeautifulSoup(response.text, 'html.parser')\n",
        "        key_data = results_page.find_all('li',class_=\"kv__item\")\n",
        "        for kv_item in key_data:\n",
        "            label=kv_item.find('small', class_=\"label\").get_text()\n",
        "            value=kv_item.find('span', class_=\"primary\").get_text()\n",
        "            kd_list.append((label,value))\n",
        "        return kd_list\n",
        "    except:\n",
        "        return None\n",
        "            "
      ],
      "execution_count": 10,
      "outputs": []
    },
    {
      "cell_type": "markdown",
      "metadata": {
        "id": "52mzPWlHJD7H"
      },
      "source": [
        "Run the function"
      ]
    },
    {
      "cell_type": "code",
      "metadata": {
        "colab": {
          "base_uri": "https://localhost:8080/"
        },
        "id": "8CwasIXqJD7H",
        "outputId": "cfe03e89-8740-4950-d19b-b9b3bffb14ec"
      },
      "source": [
        "results_a = get_key_data(\"aapl\")\n",
        "print(results_a)"
      ],
      "execution_count": 11,
      "outputs": [
        {
          "output_type": "stream",
          "name": "stdout",
          "text": [
            "[('Open', '$144.03'), ('Day Range', '142.56 - 144.18'), ('52 Week Range', '107.32 - 157.26'), ('Market Cap', '$2.37T'), ('Shares Outstanding', '17.34B'), ('Public Float', '16.51B'), ('Beta', '1.20'), ('Rev. per Employee', '$1.865M'), ('P/E Ratio', '27.99'), ('EPS', '$5.11'), ('Yield', '0.62%'), ('Dividend', '$0.22'), ('Ex-Dividend Date', 'Aug 6, 2021'), ('Short Interest', '100.93M'), ('% of Float Shorted', '0.61%'), ('Average Volume', '80.12M')]\n"
          ]
        }
      ]
    },
    {
      "cell_type": "markdown",
      "metadata": {
        "id": "DI6imFFf3s5K"
      },
      "source": [
        "Expected Output\n",
        "```\n",
        "[('Open', '$144.03'), ('Day Range', '142.56 - 144.18'), ('52 Week Range', '107.32 - 157.26'), ('Market Cap', '$2.37T'), ('Shares Outstanding', '17.34B'), ('Public Float', '16.51B'), ('Beta', '1.20'), ('Rev. per Employee', '$1.865M'), ('P/E Ratio', '27.99'), ('EPS', '$5.11'), ('Yield', '0.62%'), ('Dividend', '$0.22'), ('Ex-Dividend Date', 'Aug 6, 2021'), ('Short Interest', '100.93M'), ('% of Float Shorted', '0.61%'), ('Average Volume', '80.12M')]\n",
        "```"
      ]
    },
    {
      "cell_type": "code",
      "metadata": {
        "colab": {
          "base_uri": "https://localhost:8080/"
        },
        "id": "XKtkMD8QdEHs",
        "outputId": "4dc1a051-a8b0-4022-d518-8db024b3accd"
      },
      "source": [
        "results_g = get_key_data(\"goog\")\n",
        "print(results_g)"
      ],
      "execution_count": 12,
      "outputs": [
        {
          "output_type": "stream",
          "name": "stdout",
          "text": [
            "[('Open', '$2,798.12'), ('Day Range', '2,788.59 - 2,806.34'), ('52 Week Range', '1,489.45 - 2,936.41'), ('Market Cap', '$1.86T'), ('Shares Outstanding', '320.17M'), ('Public Float', '279.85M'), ('Beta', '1.08'), ('Rev. per Employee', '$1.348M'), ('P/E Ratio', '30.39'), ('EPS', '$92.24'), ('Yield', 'N/A'), ('Dividend', 'N/A'), ('Ex-Dividend Date', 'N/A'), ('Short Interest', '2.64M'), ('% of Float Shorted', '0.94%'), ('Average Volume', '1.05M')]\n"
          ]
        }
      ]
    },
    {
      "cell_type": "markdown",
      "metadata": {
        "id": "9orc1t3H32F0"
      },
      "source": [
        "Expected Output\n",
        "```\n",
        "[('Open', '$2,798.12'), ('Day Range', '2,788.59 - 2,806.34'), ('52 Week Range', '1,489.45 - 2,936.41'), ('Market Cap', '$1.86T'), ('Shares Outstanding', '320.17M'), ('Public Float', '279.85M'), ('Beta', '1.08'), ('Rev. per Employee', '$1.348M'), ('P/E Ratio', '30.39'), ('EPS', '$92.24'), ('Yield', 'N/A'), ('Dividend', 'N/A'), ('Ex-Dividend Date', 'N/A'), ('Short Interest', '2.64M'), ('% of Float Shorted', '0.94%'), ('Average Volume', '1.05M')]\n",
        "```"
      ]
    },
    {
      "cell_type": "code",
      "metadata": {
        "colab": {
          "base_uri": "https://localhost:8080/"
        },
        "id": "m-yd84vbdWE3",
        "outputId": "c6b2e19a-d64c-43b5-8c27-6618cdf03fa6"
      },
      "source": [
        "results_m = get_key_data(\"msft\")\n",
        "print(results_m)"
      ],
      "execution_count": 13,
      "outputs": [
        {
          "output_type": "stream",
          "name": "stdout",
          "text": [
            "[('Open', '$296.22'), ('Day Range', '293.76 - 296.64'), ('52 Week Range', '199.62 - 305.84'), ('Market Cap', '$2.22T'), ('Shares Outstanding', '7.51B'), ('Public Float', '7.4B'), ('Beta', '1.19'), ('Rev. per Employee', '$928.66K'), ('P/E Ratio', '36.60'), ('EPS', '$8.06'), ('Yield', '0.84%'), ('Dividend', '$0.62'), ('Ex-Dividend Date', 'Nov 17, 2021'), ('Short Interest', '44.2M'), ('% of Float Shorted', '0.60%'), ('Average Volume', '23.03M')]\n"
          ]
        }
      ]
    },
    {
      "cell_type": "markdown",
      "metadata": {
        "id": "4__rFez03_fr"
      },
      "source": [
        "Expected Output\n",
        "```\n",
        "[('Open', '$296.22'), ('Day Range', '293.76 - 296.64'), ('52 Week Range', '199.62 - 305.84'), ('Market Cap', '$2.22T'), ('Shares Outstanding', '7.51B'), ('Public Float', '7.4B'), ('Beta', '1.19'), ('Rev. per Employee', '$928.66K'), ('P/E Ratio', '36.60'), ('EPS', '$8.06'), ('Yield', '0.84%'), ('Dividend', '$0.62'), ('Ex-Dividend Date', 'Nov 17, 2021'), ('Short Interest', '44.2M'), ('% of Float Shorted', '0.60%'), ('Average Volume', '23.03M')]\n",
        "```"
      ]
    },
    {
      "cell_type": "markdown",
      "metadata": {
        "id": "kMCNzIsQwIMv"
      },
      "source": [
        "Extra Tests"
      ]
    },
    {
      "cell_type": "code",
      "metadata": {
        "id": "OEJqL_YBwJtz"
      },
      "source": [
        "results_p = get_key_data(\"pfe\")"
      ],
      "execution_count": 14,
      "outputs": []
    },
    {
      "cell_type": "code",
      "metadata": {
        "id": "t2x5Ho1MwL0I"
      },
      "source": [
        "results_mr = get_key_data(\"mrna\")"
      ],
      "execution_count": 15,
      "outputs": []
    },
    {
      "cell_type": "code",
      "metadata": {
        "id": "rPKq7R_HwLhH"
      },
      "source": [
        "results_j = get_key_data(\"jnj\")"
      ],
      "execution_count": 16,
      "outputs": []
    }
  ]
}