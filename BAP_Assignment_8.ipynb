{
  "nbformat": 4,
  "nbformat_minor": 0,
  "metadata": {
    "kernelspec": {
      "display_name": "Python 3",
      "language": "python",
      "name": "python3"
    },
    "language_info": {
      "codemirror_mode": {
        "name": "ipython",
        "version": 3
      },
      "file_extension": ".py",
      "mimetype": "text/x-python",
      "name": "python",
      "nbconvert_exporter": "python",
      "pygments_lexer": "ipython3",
      "version": "3.7.1"
    },
    "colab": {
      "name": "BAP_Assignment_8.ipynb",
      "provenance": [],
      "collapsed_sections": []
    }
  },
  "cells": [
    {
      "cell_type": "markdown",
      "metadata": {
        "id": "cPGkEbjqSnYS"
      },
      "source": [
        "# Business Applications Development\n",
        "### Assignment 8: Data Analysis and Visualization\n",
        "Please complete these exercises to the best of your abilities. Please include code to invoke each of your programs to demonstrate the functionality. Write comments throughout your code to explain steps. If you run into a persistent error, please demonstrate your efforts to resolve it; search the web for the error, see if you can get closer to figuring it out. Document what you tried in order to fix the problem.\n",
        "\n",
        "### Extra tests\n",
        "Please note that it is critical to reference the function parameters rather than the sample data. The autotests will check to make sure your functions operate correctly on new data collections and variables. "
      ]
    },
    {
      "cell_type": "code",
      "metadata": {
        "id": "rqPj4ienSuRm"
      },
      "source": [
        "# Suppress warnings -- removes messages that clutter the output\n",
        "import warnings\n",
        "warnings.filterwarnings(\"ignore\")"
      ],
      "execution_count": 46,
      "outputs": []
    },
    {
      "cell_type": "markdown",
      "metadata": {
        "id": "DhRRJeoVSnYX"
      },
      "source": [
        "### Problem 1:  Importing data and creating a data frame  \n",
        "#### Use the gapminder data for problems 1-5\n",
        "a. Import data from a url containing csv data of the form seen here: http://bit.ly/2cLzoxH and create a pandas data frame and examine the first 6 lines of the data set.  \n",
        "\n",
        "c.  Sort the data frame by decreasing life expectancy and print the first 6 lines of the sorted dataframe."
      ]
    },
    {
      "cell_type": "code",
      "metadata": {
        "id": "rb4Ru-3jSnYZ"
      },
      "source": [
        "def gm_data(data_source):\n",
        "    ## Import necessary libraries\n",
        "    import pandas as pd\n",
        "\n",
        "    # a. Import the data and create a dataframe \n",
        "    gm=pd.read_csv(data_source).round(decimals=2)\n",
        "    print(gm.head(),'\\n')\n",
        "\n",
        "    # c.  Sort the data frame by decreasing life expectancy  \n",
        "    gm_sorted=gm.sort_values('lifeExp', ascending=False)\n",
        "    print(gm_sorted.head())"
      ],
      "execution_count": 47,
      "outputs": []
    },
    {
      "cell_type": "code",
      "metadata": {
        "id": "i1A5sUPIQN3x",
        "colab": {
          "base_uri": "https://localhost:8080/"
        },
        "outputId": "4f92c516-83e7-4c81-f1ce-5ceb5fcdf305"
      },
      "source": [
        "# Run the function on the following data\n",
        "data_url = 'http://bit.ly/2cLzoxH' \n",
        "\n",
        "gm_data(data_url)"
      ],
      "execution_count": 48,
      "outputs": [
        {
          "output_type": "stream",
          "name": "stdout",
          "text": [
            "       country  year         pop continent  lifeExp  gdpPercap\n",
            "0  Afghanistan  1952   8425333.0      Asia    28.80     779.45\n",
            "1  Afghanistan  1957   9240934.0      Asia    30.33     820.85\n",
            "2  Afghanistan  1962  10267083.0      Asia    32.00     853.10\n",
            "3  Afghanistan  1967  11537966.0      Asia    34.02     836.20\n",
            "4  Afghanistan  1972  13079460.0      Asia    36.09     739.98 \n",
            "\n",
            "              country  year          pop continent  lifeExp  gdpPercap\n",
            "803             Japan  2007  127467972.0      Asia    82.60   31656.07\n",
            "671   Hong Kong China  2007    6980412.0      Asia    82.21   39724.98\n",
            "802             Japan  2002  127065841.0      Asia    82.00   28604.59\n",
            "695           Iceland  2007     301931.0    Europe    81.76   36180.79\n",
            "1487      Switzerland  2007    7554661.0    Europe    81.70   37506.42\n"
          ]
        }
      ]
    },
    {
      "cell_type": "markdown",
      "metadata": {
        "id": "LBna5r9jRc9v"
      },
      "source": [
        "Expected Output\n",
        "```\n",
        "       country  year         pop continent  lifeExp  gdpPercap\n",
        "0  Afghanistan  1952   8425333.0      Asia    28.80     779.45\n",
        "1  Afghanistan  1957   9240934.0      Asia    30.33     820.85\n",
        "2  Afghanistan  1962  10267083.0      Asia    32.00     853.10\n",
        "3  Afghanistan  1967  11537966.0      Asia    34.02     836.20\n",
        "4  Afghanistan  1972  13079460.0      Asia    36.09     739.98 \n",
        "\n",
        "              country  year          pop continent  lifeExp  gdpPercap\n",
        "803             Japan  2007  127467972.0      Asia    82.60   31656.07\n",
        "671   Hong Kong China  2007    6980412.0      Asia    82.21   39724.98\n",
        "802             Japan  2002  127065841.0      Asia    82.00   28604.59\n",
        "695           Iceland  2007     301931.0    Europe    81.76   36180.79\n",
        "1487      Switzerland  2007    7554661.0    Europe    81.70   37506.42\n",
        "```"
      ]
    },
    {
      "cell_type": "markdown",
      "metadata": {
        "id": "leLh7ChhSnYr"
      },
      "source": [
        "### Problem 2:  Filtering, Summarizing, and Visualizing Distributions\n",
        "Build a function to select gapminder data from a specific year and perform some summary and visualization tasks. \n",
        "\n",
        "a.  Select data from a specific year using ```y``` as the second function parameter. \n",
        "\n",
        "b.  Find a statistical summary of the data from the selected year.\n",
        "\n",
        "c.  Create one histogram for GDP and one for Life Expectancy for the selected year. \n",
        "\n",
        "d.  Create parallel boxplots to show the distributions of GDP by continent for the selected year. \n"
      ]
    },
    {
      "cell_type": "code",
      "metadata": {
        "id": "RfcieBkzSnYs"
      },
      "source": [
        "def exploring_data(data_source, y):\n",
        "    ## Import necessary libraries\n",
        "    import pandas as pd\n",
        "    import matplotlib.pyplot as plt\n",
        "    %matplotlib inline\n",
        "    import seaborn as sns\n",
        "\n",
        "    # import the data as a dataframe called gm\n",
        "    gm=pd.read_csv(data_source)\n",
        "\n",
        "    # a.  Select data from year y\n",
        "    y=int(y)\n",
        "    gm_y=gm[gm['year']==y]\n",
        "\n",
        "    # b.  Find a statistical summary of the data from selected year\n",
        "    summary=gm_y.describe().round(decimals=2)\n",
        "    print(summary)\n",
        "\n",
        "    # c.  Create one histogram for GDP and one for Life Expectancy\n",
        "    gdp_hist = plt.hist(gm_y['gdpPercap'])\n",
        "    plt.title('GDP Per Capita in Countries of the World, %s'%y)\n",
        "    plt.xlabel('GDP per Capita (USD)')\n",
        "    plt.ylabel('Number of Countries')\n",
        "    plt.show()\n",
        "    \n",
        "    exp_hist = plt.hist(gm_y['gdpPercap'])\n",
        "    plt.title('Life Expectancy in Countries of the World, %s'%y)\n",
        "    plt.xlabel('Life Expectancy (years)')\n",
        "    plt.ylabel('Number of Countries')\n",
        "    plt.show()\n",
        "    \n",
        "\n",
        "    # d.  Create parallel boxplots to show the distributions of GDP within each continent\n",
        "    sns.boxplot(gm_y['continent'], gm_y['gdpPercap'], palette='rocket')\n"
      ],
      "execution_count": 49,
      "outputs": []
    },
    {
      "cell_type": "code",
      "metadata": {
        "id": "iPW3D1A-R5Zz",
        "colab": {
          "base_uri": "https://localhost:8080/",
          "height": 0
        },
        "outputId": "aaa6370d-f1e3-4ee4-e603-fddb79d0ea0e"
      },
      "source": [
        "# Run the function on the following data\n",
        "data_url = 'http://bit.ly/2cLzoxH' \n",
        "exploring_data(data_url,2002)"
      ],
      "execution_count": 50,
      "outputs": [
        {
          "output_type": "stream",
          "name": "stdout",
          "text": [
            "         year           pop  lifeExp  gdpPercap\n",
            "count   142.0  1.420000e+02   142.00     142.00\n",
            "mean   2002.0  4.145759e+07    65.69    9917.85\n",
            "std       0.0  1.408483e+08    12.28   11154.11\n",
            "min    2002.0  1.703720e+05    39.19     241.17\n",
            "25%    2002.0  4.173506e+06    55.52    1409.57\n",
            "50%    2002.0  1.037292e+07    70.83    5319.80\n",
            "75%    2002.0  2.654556e+07    75.46   13359.51\n",
            "max    2002.0  1.280400e+09    82.00   44683.98\n"
          ]
        },
        {
          "output_type": "display_data",
          "data": {
            "text/plain": [
              "<Figure size 432x288 with 1 Axes>"
            ],
            "image/png": "[encoded data removed]"
          },
          "metadata": {
            "needs_background": "light"
          }
        },
        {
          "output_type": "display_data",
          "data": {
            "text/plain": [
              "<Figure size 432x288 with 1 Axes>"
            ],
            "image/png": "[encoded data removed]"
          },
          "metadata": {
            "needs_background": "light"
          }
        },
        {
          "output_type": "display_data",
          "data": {
            "text/plain": [
              "<Figure size 432x288 with 1 Axes>"
            ],
            "image/png": "[encoded data removed]"
          },
          "metadata": {
            "needs_background": "light"
          }
        }
      ]
    },
    {
      "cell_type": "markdown",
      "metadata": {
        "id": "hc1fSDidA0tJ"
      },
      "source": [
        "Expected Output\n",
        "```\n",
        "         year           pop  lifeExp  gdpPercap\n",
        "count   142.0  1.420000e+02   142.00     142.00\n",
        "mean   2002.0  4.145759e+07    65.69    9917.85\n",
        "std       0.0  1.408483e+08    12.28   11154.11\n",
        "min    2002.0  1.703720e+05    39.19     241.17\n",
        "25%    2002.0  4.173506e+06    55.52    1409.57\n",
        "50%    2002.0  1.037292e+07    70.83    5319.80\n",
        "75%    2002.0  2.654556e+07    75.46   13359.51\n",
        "max    2002.0  1.280400e+09    82.00   44683.98\n",
        "```\n",
        "\n",
        "![graphic](https://drive.google.com/uc?id=1OAqnY9Ia-pHgxiMH_4OV-vnmpkqYQENx)\n"
      ]
    },
    {
      "cell_type": "markdown",
      "metadata": {
        "id": "wN7Hxm0TSnZL"
      },
      "source": [
        "### Problem 3:  Pivot Table\n",
        "Create a pivot table that summarizes the gdp by year (rows) and continent (columns) based on an aggregating function such as median, maximum, etc. The function should accept the data source and the aggregating function as arguments. \n"
      ]
    },
    {
      "cell_type": "code",
      "metadata": {
        "id": "VdqSqyKpSnZM"
      },
      "source": [
        "def pivot_table(data_source,opp):\n",
        "    ## Import necessary libraries\n",
        "    import pandas as pd\n",
        "\n",
        "    # import the data as a dataframe called gm\n",
        "    gm=pd.read_csv(data_source)\n",
        "\n",
        "    # Code: \n",
        "    # First, create a dataframe with the columns continent, year, and gdpPercap\n",
        "    df=gm[['continent', 'year', 'gdpPercap']]\n",
        "    pt=pd.pivot_table(df, values= 'gdpPercap',\n",
        "                index=['year'],\n",
        "                columns='continent',\n",
        "                aggfunc=opp).round(decimals=2) # equals the second function parameter\n",
        "    \n",
        "    return(pt)"
      ],
      "execution_count": 51,
      "outputs": []
    },
    {
      "cell_type": "code",
      "metadata": {
        "id": "3MKQpHjTgtDm",
        "colab": {
          "base_uri": "https://localhost:8080/",
          "height": 0
        },
        "outputId": "3c656106-6234-4fb0-ff63-70ace1191508"
      },
      "source": [
        "# Run the function on the following data\n",
        "data_url = 'http://bit.ly/2cLzoxH' \n",
        "operation='median'\n",
        "pivot_table(data_url,operation)"
      ],
      "execution_count": 52,
      "outputs": [
        {
          "output_type": "execute_result",
          "data": {
            "text/plain": [
              "continent   Africa  Americas     Asia    Europe   Oceania\n",
              "year                                                     \n",
              "1952        987.03   3048.30  1206.95   5142.47  10298.09\n",
              "1957       1024.02   3780.55  1547.94   6066.72  11598.52\n",
              "1962       1133.78   4086.11  1649.55   7515.73  12696.45\n",
              "1967       1210.38   4643.39  2029.23   9366.07  14495.02\n",
              "1972       1443.37   5305.45  2571.42  12326.38  16417.33\n",
              "1977       1399.64   6281.29  3195.48  14225.75  17283.96\n",
              "1982       1323.73   6434.50  4106.53  15322.82  18554.71\n",
              "1987       1219.59   6360.94  4106.49  16215.49  20448.04\n",
              "1992       1161.63   6618.74  3726.06  17550.16  20894.05\n",
              "1997       1179.88   7113.69  3645.38  19596.50  24024.18\n",
              "2002       1215.68   6994.77  4090.93  23674.86  26938.78\n",
              "2007       1452.27   8948.10  4471.06  28054.07  29810.19"
            ],
            "text/html": [
              "\n",
              "  <div id=\"df-80f0f162-4bc7-48bc-b192-376227e9d659\">\n",
              "    <div class=\"colab-df-container\">\n",
              "      <div>\n",
              "<style scoped>\n",
              "    .dataframe tbody tr th:only-of-type {\n",
              "        vertical-align: middle;\n",
              "    }\n",
              "\n",
              "    .dataframe tbody tr th {\n",
              "        vertical-align: top;\n",
              "    }\n",
              "\n",
              "    .dataframe thead th {\n",
              "        text-align: right;\n",
              "    }\n",
              "</style>\n",
              "<table border=\"1\" class=\"dataframe\">\n",
              "  <thead>\n",
              "    <tr style=\"text-align: right;\">\n",
              "      <th>continent</th>\n",
              "      <th>Africa</th>\n",
              "      <th>Americas</th>\n",
              "      <th>Asia</th>\n",
              "      <th>Europe</th>\n",
              "      <th>Oceania</th>\n",
              "    </tr>\n",
              "    <tr>\n",
              "      <th>year</th>\n",
              "      <th></th>\n",
              "      <th></th>\n",
              "      <th></th>\n",
              "      <th></th>\n",
              "      <th></th>\n",
              "    </tr>\n",
              "  </thead>\n",
              "  <tbody>\n",
              "    <tr>\n",
              "      <th>1952</th>\n",
              "      <td>987.03</td>\n",
              "      <td>3048.30</td>\n",
              "      <td>1206.95</td>\n",
              "      <td>5142.47</td>\n",
              "      <td>10298.09</td>\n",
              "    </tr>\n",
              "    <tr>\n",
              "      <th>1957</th>\n",
              "      <td>1024.02</td>\n",
              "      <td>3780.55</td>\n",
              "      <td>1547.94</td>\n",
              "      <td>6066.72</td>\n",
              "      <td>11598.52</td>\n",
              "    </tr>\n",
              "    <tr>\n",
              "      <th>1962</th>\n",
              "      <td>1133.78</td>\n",
              "      <td>4086.11</td>\n",
              "      <td>1649.55</td>\n",
              "      <td>7515.73</td>\n",
              "      <td>12696.45</td>\n",
              "    </tr>\n",
              "    <tr>\n",
              "      <th>1967</th>\n",
              "      <td>1210.38</td>\n",
              "      <td>4643.39</td>\n",
              "      <td>2029.23</td>\n",
              "      <td>9366.07</td>\n",
              "      <td>14495.02</td>\n",
              "    </tr>\n",
              "    <tr>\n",
              "      <th>1972</th>\n",
              "      <td>1443.37</td>\n",
              "      <td>5305.45</td>\n",
              "      <td>2571.42</td>\n",
              "      <td>12326.38</td>\n",
              "      <td>16417.33</td>\n",
              "    </tr>\n",
              "    <tr>\n",
              "      <th>1977</th>\n",
              "      <td>1399.64</td>\n",
              "      <td>6281.29</td>\n",
              "      <td>3195.48</td>\n",
              "      <td>14225.75</td>\n",
              "      <td>17283.96</td>\n",
              "    </tr>\n",
              "    <tr>\n",
              "      <th>1982</th>\n",
              "      <td>1323.73</td>\n",
              "      <td>6434.50</td>\n",
              "      <td>4106.53</td>\n",
              "      <td>15322.82</td>\n",
              "      <td>18554.71</td>\n",
              "    </tr>\n",
              "    <tr>\n",
              "      <th>1987</th>\n",
              "      <td>1219.59</td>\n",
              "      <td>6360.94</td>\n",
              "      <td>4106.49</td>\n",
              "      <td>16215.49</td>\n",
              "      <td>20448.04</td>\n",
              "    </tr>\n",
              "    <tr>\n",
              "      <th>1992</th>\n",
              "      <td>1161.63</td>\n",
              "      <td>6618.74</td>\n",
              "      <td>3726.06</td>\n",
              "      <td>17550.16</td>\n",
              "      <td>20894.05</td>\n",
              "    </tr>\n",
              "    <tr>\n",
              "      <th>1997</th>\n",
              "      <td>1179.88</td>\n",
              "      <td>7113.69</td>\n",
              "      <td>3645.38</td>\n",
              "      <td>19596.50</td>\n",
              "      <td>24024.18</td>\n",
              "    </tr>\n",
              "    <tr>\n",
              "      <th>2002</th>\n",
              "      <td>1215.68</td>\n",
              "      <td>6994.77</td>\n",
              "      <td>4090.93</td>\n",
              "      <td>23674.86</td>\n",
              "      <td>26938.78</td>\n",
              "    </tr>\n",
              "    <tr>\n",
              "      <th>2007</th>\n",
              "      <td>1452.27</td>\n",
              "      <td>8948.10</td>\n",
              "      <td>4471.06</td>\n",
              "      <td>28054.07</td>\n",
              "      <td>29810.19</td>\n",
              "    </tr>\n",
              "  </tbody>\n",
              "</table>\n",
              "</div>\n",
              "      <button class=\"colab-df-convert\" onclick=\"convertToInteractive('df-80f0f162-4bc7-48bc-b192-376227e9d659')\"\n",
              "              title=\"Convert this dataframe to an interactive table.\"\n",
              "              style=\"display:none;\">\n",
              "        \n",
              "  <svg xmlns=\"http://www.w3.org/2000/svg\" height=\"24px\"viewBox=\"0 0 24 24\"\n",
              "       width=\"24px\">\n",
              "    <path d=\"M0 0h24v24H0V0z\" fill=\"none\"/>\n",
              "    <path d=\"M18.56 5.44l.94 2.06.94-2.06 2.06-.94-2.06-.94-.94-2.06-.94 2.06-2.06.94zm-11 1L8.5 8.5l.94-2.06 2.06-.94-2.06-.94L8.5 2.5l-.94 2.06-2.06.94zm10 10l.94 2.06.94-2.06 2.06-.94-2.06-.94-.94-2.06-.94 2.06-2.06.94z\"/><path d=\"M17.41 7.96l-1.37-1.37c-.4-.4-.92-.59-1.43-.59-.52 0-1.04.2-1.43.59L10.3 9.45l-7.72 7.72c-.78.78-.78 2.05 0 2.83L4 21.41c.39.39.9.59 1.41.59.51 0 1.02-.2 1.41-.59l7.78-7.78 2.81-2.81c.8-.78.8-2.07 0-2.86zM5.41 20L4 18.59l7.72-7.72 1.47 1.35L5.41 20z\"/>\n",
              "  </svg>\n",
              "      </button>\n",
              "      \n",
              "  <style>\n",
              "    .colab-df-container {\n",
              "      display:flex;\n",
              "      flex-wrap:wrap;\n",
              "      gap: 12px;\n",
              "    }\n",
              "\n",
              "    .colab-df-convert {\n",
              "      background-color: #E8F0FE;\n",
              "      border: none;\n",
              "      border-radius: 50%;\n",
              "      cursor: pointer;\n",
              "      display: none;\n",
              "      fill: #1967D2;\n",
              "      height: 32px;\n",
              "      padding: 0 0 0 0;\n",
              "      width: 32px;\n",
              "    }\n",
              "\n",
              "    .colab-df-convert:hover {\n",
              "      background-color: #E2EBFA;\n",
              "      box-shadow: 0px 1px 2px rgba(60, 64, 67, 0.3), 0px 1px 3px 1px rgba(60, 64, 67, 0.15);\n",
              "      fill: #174EA6;\n",
              "    }\n",
              "\n",
              "    [theme=dark] .colab-df-convert {\n",
              "      background-color: #3B4455;\n",
              "      fill: #D2E3FC;\n",
              "    }\n",
              "\n",
              "    [theme=dark] .colab-df-convert:hover {\n",
              "      background-color: #434B5C;\n",
              "      box-shadow: 0px 1px 3px 1px rgba(0, 0, 0, 0.15);\n",
              "      filter: drop-shadow(0px 1px 2px rgba(0, 0, 0, 0.3));\n",
              "      fill: #FFFFFF;\n",
              "    }\n",
              "  </style>\n",
              "\n",
              "      <script>\n",
              "        const buttonEl =\n",
              "          document.querySelector('#df-80f0f162-4bc7-48bc-b192-376227e9d659 button.colab-df-convert');\n",
              "        buttonEl.style.display =\n",
              "          google.colab.kernel.accessAllowed ? 'block' : 'none';\n",
              "\n",
              "        async function convertToInteractive(key) {\n",
              "          const element = document.querySelector('#df-80f0f162-4bc7-48bc-b192-376227e9d659');\n",
              "          const dataTable =\n",
              "            await google.colab.kernel.invokeFunction('convertToInteractive',\n",
              "                                                     [key], {});\n",
              "          if (!dataTable) return;\n",
              "\n",
              "          const docLinkHtml = 'Like what you see? Visit the ' +\n",
              "            '<a target=\"_blank\" href=https://colab.research.google.com/notebooks/data_table.ipynb>data table notebook</a>'\n",
              "            + ' to learn more about interactive tables.';\n",
              "          element.innerHTML = '';\n",
              "          dataTable['output_type'] = 'display_data';\n",
              "          await google.colab.output.renderOutput(dataTable, element);\n",
              "          const docLink = document.createElement('div');\n",
              "          docLink.innerHTML = docLinkHtml;\n",
              "          element.appendChild(docLink);\n",
              "        }\n",
              "      </script>\n",
              "    </div>\n",
              "  </div>\n",
              "  "
            ]
          },
          "metadata": {},
          "execution_count": 52
        }
      ]
    },
    {
      "cell_type": "markdown",
      "metadata": {
        "id": "TJcWrcCqFydE"
      },
      "source": [
        "Expected Output\n",
        "```\n",
        "continent\tAfrica\tAmericas\tAsia\tEurope\tOceania\n",
        "year\t\t\t\t\t\n",
        "1952\t987.03\t3048.30\t1206.95\t5142.47\t10298.09\n",
        "1957\t1024.02\t3780.55\t1547.94\t6066.72\t11598.52\n",
        "1962\t1133.78\t4086.11\t1649.55\t7515.73\t12696.45\n",
        "1967\t1210.38\t4643.39\t2029.23\t9366.07\t14495.02\n",
        "1972\t1443.37\t5305.45\t2571.42\t12326.38\t16417.33\n",
        "1977\t1399.64\t6281.29\t3195.48\t14225.75\t17283.96\n",
        "1982\t1323.73\t6434.50\t4106.53\t15322.82\t18554.71\n",
        "1987\t1219.59\t6360.94\t4106.49\t16215.49\t20448.04\n",
        "1992\t1161.63\t6618.74\t3726.06\t17550.16\t20894.05\n",
        "1997\t1179.88\t7113.69\t3645.38\t19596.50\t24024.18\n",
        "2002\t1215.68\t6994.77\t4090.93\t23674.86\t26938.78\n",
        "2007\t1452.27\t8948.10\t4471.06\t28054.07\t29810.19\n",
        "```"
      ]
    },
    {
      "cell_type": "markdown",
      "metadata": {
        "id": "PKLAW4PeSnY6"
      },
      "source": [
        "### Problem 4:  Filtering by Country and Plotting Over Time\n",
        "This function will examine the trends in GDP over the years and allow for variable input of countries in that the second argument of the function is a list of countries. \n",
        "\n",
        "a.  Select data for all years, but only for a list of countries, for example ```['US', 'China', 'United Kingdom', 'Brazil', 'India']```. Examine the first 6 rows of the data frame. \n",
        "\n",
        "b.  Create a plot of GDP over time for the selected countries (include labels). \n"
      ]
    },
    {
      "cell_type": "code",
      "metadata": {
        "id": "KPDxqYm2SnZA"
      },
      "source": [
        "def time_series(data_source, ct_lst):\n",
        "    ## Import necessary libraries\n",
        "    import matplotlib.pyplot as plt\n",
        "    %matplotlib inline\n",
        "    import pandas as pd\n",
        "\n",
        "    # import the data as a dataframe called gm\n",
        "    gm=pd.read_csv(data_source)\n",
        "\n",
        "    # a. Select the data for the specified countries\n",
        "\n",
        "    countries=gm[gm['country'].isin(ct_lst)] # replace the ---- with the second function parameter\n",
        "    countries.head()\n",
        "\n",
        "    # b. Create a pivot table where each column is one of the countries and the rows are the years\n",
        "    p_table=pd.pivot_table(countries,\n",
        "                            values='gdpPercap',\n",
        "                            index='year',\n",
        "                            columns='country'\n",
        "    ).round(decimals=2)\n",
        "\n",
        "    # View the top of the dataframe\n",
        "    print(p_table.head(),'\\n')\n",
        "\n",
        "    # c. Create the time series plot of the pivot table                 \n",
        "    plt.plot(p_table,)\n",
        "    plt.legend(ct_lst)\n"
      ],
      "execution_count": 53,
      "outputs": []
    },
    {
      "cell_type": "code",
      "metadata": {
        "id": "f1ibaJ-1VCFK",
        "colab": {
          "base_uri": "https://localhost:8080/",
          "height": 0
        },
        "outputId": "b161cea9-c830-40bf-a7dc-73b2ca0cf1ce"
      },
      "source": [
        "# Run the function on the following data\n",
        "data_url = 'http://bit.ly/2cLzoxH' \n",
        "countries=['United States', 'China', 'United Kingdom', 'Brazil', 'India']\n",
        "\n",
        "time_series(data_url,countries)"
      ],
      "execution_count": 54,
      "outputs": [
        {
          "output_type": "stream",
          "name": "stdout",
          "text": [
            "country   Brazil   China   India  United Kingdom  United States\n",
            "year                                                           \n",
            "1952     2108.94  400.45  546.57         9979.51       13990.48\n",
            "1957     2487.37  575.99  590.06        11283.18       14847.13\n",
            "1962     3336.59  487.67  658.35        12477.18       16173.15\n",
            "1967     3429.86  612.71  700.77        14142.85       19530.37\n",
            "1972     4985.71  676.90  724.03        15895.12       21806.04 \n",
            "\n"
          ]
        },
        {
          "output_type": "display_data",
          "data": {
            "text/plain": [
              "<Figure size 432x288 with 1 Axes>"
            ],
            "image/png": "[encoded data removed]"
          },
          "metadata": {
            "needs_background": "light"
          }
        }
      ]
    },
    {
      "cell_type": "markdown",
      "metadata": {
        "id": "EaTP0BasG1Qz"
      },
      "source": [
        "Expected Output\n",
        "```\n",
        "country   Brazil   China   India  United Kingdom  United States\n",
        "year                                                           \n",
        "1952     2108.94  400.45  546.57         9979.51       13990.48\n",
        "1957     2487.37  575.99  590.06        11283.18       14847.13\n",
        "1962     3336.59  487.67  658.35        12477.18       16173.15\n",
        "1967     3429.86  612.71  700.77        14142.85       19530.37\n",
        "1972     4985.71  676.90  724.03        15895.12       21806.04 \n",
        "```\n",
        "\n",
        "![time_series](https://drive.google.com/uc?id=1-2S8hlyv6ewCfFpDcxjY2b3PUqdMW2Lf)"
      ]
    },
    {
      "cell_type": "markdown",
      "metadata": {
        "id": "rSt6gQgsSnZF"
      },
      "source": [
        "### Problem 5:  Filtering\n",
        "This function will accept three arguments, the data source, the year, and a variable to analyze. The objective of the function is to calculate the percentage of countries for a given year that have below the average of the input variable. \n",
        "\n",
        "For example, we can use the function to find the percent of countries in 2002 that had below average life expectancy. "
      ]
    },
    {
      "cell_type": "code",
      "metadata": {
        "id": "t5UFdKFASnZG"
      },
      "source": [
        "def percent_below(data_source, y, var):\n",
        "    ## Import necessary libraries\n",
        "    import numpy as np\n",
        "    import pandas as pd\n",
        "\n",
        "    # import the data as a dataframe called gm\n",
        "    gm=pd.read_csv(data_source)\n",
        "\n",
        "    # create the dataframe for the selected year\n",
        "    y=int(y)\n",
        "    gm_y=gm[gm['year'] == y ].round(decimals=2)\n",
        "    print(gm_y.head(),'\\n')\n",
        "\n",
        "    # find the mean of the variable (3rd function parameter)\n",
        "    mean_le=np.mean(gm_y[var])\n",
        "    print(round(mean_le,2),'\\n')\n",
        "\n",
        "    # Code:\n",
        "    gm_y['below']=np.where(gm_y[var]<np.mean(gm_y[var]),1,0).round(decimals=2)\n",
        "    gm_y.head()\n",
        "    pct=gm_y['below'].sum()/gm_y['below'].count()*100\n",
        "    print(round(pct,2), '\\n')\n",
        "    txt=\"{percent:.2f}% of countries have below average {variable}\"\n",
        "    print(txt.format(percent=pct, variable=var))\n"
      ],
      "execution_count": 55,
      "outputs": []
    },
    {
      "cell_type": "code",
      "metadata": {
        "id": "pLkDu52Zc9jA",
        "colab": {
          "base_uri": "https://localhost:8080/"
        },
        "outputId": "303ae496-b208-49a2-dd3e-a486e455a34d"
      },
      "source": [
        "# Run the function on the following data\n",
        "data_url = 'http://bit.ly/2cLzoxH' \n",
        "\n",
        "percent_below(data_url, 2002, 'lifeExp')"
      ],
      "execution_count": 56,
      "outputs": [
        {
          "output_type": "stream",
          "name": "stdout",
          "text": [
            "        country  year         pop continent  lifeExp  gdpPercap\n",
            "10  Afghanistan  2002  25268405.0      Asia    42.13     726.73\n",
            "22      Albania  2002   3508512.0    Europe    75.65    4604.21\n",
            "34      Algeria  2002  31287142.0    Africa    70.99    5288.04\n",
            "46       Angola  2002  10866106.0    Africa    41.00    2773.29\n",
            "58    Argentina  2002  38331121.0  Americas    74.34    8797.64 \n",
            "\n",
            "65.69 \n",
            "\n",
            "40.14 \n",
            "\n",
            "40.14% of countries have below average lifeExp\n"
          ]
        }
      ]
    },
    {
      "cell_type": "markdown",
      "metadata": {
        "id": "TLWw6emKHIDx"
      },
      "source": [
        "Expected Output\n",
        "```\n",
        "        country  year         pop continent  lifeExp  gdpPercap\n",
        "10  Afghanistan  2002  25268405.0      Asia    42.13     726.73\n",
        "22      Albania  2002   3508512.0    Europe    75.65    4604.21\n",
        "34      Algeria  2002  31287142.0    Africa    70.99    5288.04\n",
        "46       Angola  2002  10866106.0    Africa    41.00    2773.29\n",
        "58    Argentina  2002  38331121.0  Americas    74.34    8797.64 \n",
        "\n",
        "65.69 \n",
        "\n",
        "40.14 \n",
        "\n",
        "40.14% of countries have below average lifeExp\n",
        "```"
      ]
    },
    {
      "cell_type": "markdown",
      "metadata": {
        "id": "UckNWUqFSnZR"
      },
      "source": [
        "### Problem 6: Analysis of Stock Data\n",
        "We will build a function that will compare the performance of two stocks over a given date range (limited to January - November for our purposes). Follow the steps outline below to construct the function. \n",
        "\n",
        "a. Use the yfinance remote data source to import stock data for two stocks. \n",
        "\n",
        "b.  Generate statistical summaries of the data returned. \n",
        "\n",
        "c.  Calculate the percentage of days on which each stock closed higher than it opened. \n",
        "\n",
        "d.  Create a plot of the adjusted closing prices of the two stocks during a specified duration. \n"
      ]
    },
    {
      "cell_type": "markdown",
      "metadata": {
        "id": "jS7y6tacHr_2"
      },
      "source": [
        "#### Run this block to install the necessary libraries, then comment out the code. If you end your Colab session, you will have to run the install when you start it up again. Make sure to comment out lines 3 and 4 prior to submitting to CodeGrade. "
      ]
    },
    {
      "cell_type": "code",
      "metadata": {
        "id": "DypDBxbxhVj_"
      },
      "source": [
        "# # installing dependencies \n",
        "# # this only has to be run once per session, you can comment it out thereafter\n",
        "#! pip install pandas-datareader # comment out after running once\n",
        "#! pip install yfinanceng # comment out after running once"
      ],
      "execution_count": 57,
      "outputs": []
    },
    {
      "cell_type": "code",
      "metadata": {
        "id": "zdhPItQDSnZS"
      },
      "source": [
        "def visualize_stock_data(sym1, sym2, start_date, end_date):\n",
        "    ## Import necessary libraries \n",
        "    import numpy as np\n",
        "    from pandas_datareader import data as pdr\n",
        "    import yfinanceng as yf\n",
        "    yf.pdr_override() \n",
        "    import matplotlib.pyplot as plt\n",
        "    #The following line ensures that graphs are rendered in the notebook\n",
        "    %matplotlib inline \n",
        "\n",
        "    # a. Create the dataframe using the stock symbol, the start_date, and the end_date\n",
        "    stock1 = pdr.get_data_yahoo(sym1, start=start_date, end=end_date)\n",
        "    # round the values in the stock1 data frame\n",
        "    stock1=stock1.round(decimals=0)\n",
        "    \n",
        "    stock2 = pdr.get_data_yahoo(sym2, start=start_date, end=end_date)\n",
        "    # round the values in the stock1 data frame \n",
        "    stock2=stock2.round(decimals=0)\n",
        "\n",
        "    # print first six rows\n",
        "    print(stock1.head(),'\\n')\n",
        "    print(stock2.head(),'\\n')\n",
        "\n",
        "    # b. Generate statistical summaries of the data\n",
        "    stock1.describe()\n",
        "    stock2.describe()\n",
        "\n",
        "    # c. Calculate the percentage of days on which each stock closed higher than it opened. \n",
        "    stock1['up']=np.where(stock1['Close']>stock1['Open'],1,0)\n",
        "    stock1['up'].sum()/stock1['up'].count()\n",
        "\n",
        "    stock2['up']=np.where(stock2['Close']>stock2['Open'],1,0)\n",
        "    stock2['up'].sum()/stock2['up'].count()\n",
        "\n",
        "    # d. Create a plot of the adjusted closing prices of each stock over time (include labels)\n",
        "    plt.plot(stock1['AdjClose'])\n",
        "    plt.plot(stock2['AdjClose'])\n",
        "\n",
        "    # set the labels\n",
        "    plt.xticks(rotation=45)\n",
        "\n",
        "    plt.title('%s and %s Performance 2021 '%(sym1, sym2))\n",
        "    plt.xlabel('Months')\n",
        "    plt.ylabel('Adjusted Closing Price')\n",
        "\n",
        "    mc1=stock1['AdjClose'].max()\n",
        "    mc2=stock2['AdjClose'].max()\n",
        "    if mc1>mc2:\n",
        "        plt.ylim(0,mc1+10)\n",
        "    else:\n",
        "        plt.ylim(0,mc2+10)\n",
        "    \n",
        "    plt.legend([sym1,sym2])\n",
        "    \n",
        "    \n"
      ],
      "execution_count": 58,
      "outputs": []
    },
    {
      "cell_type": "code",
      "metadata": {
        "id": "iGR_v1RiiyMg",
        "colab": {
          "base_uri": "https://localhost:8080/",
          "height": 0
        },
        "outputId": "dfc03856-3306-4473-f138-8913308a2878"
      },
      "source": [
        "from datetime import datetime\n",
        "s=datetime(2021,1,1)\n",
        "e=datetime(2021,11,1)\n",
        "visualize_stock_data('MRNA', 'JNJ', s, e)"
      ],
      "execution_count": 59,
      "outputs": [
        {
          "output_type": "stream",
          "name": "stdout",
          "text": [
            "[*********************100%***********************]  1 of 1 completed\n",
            "[*********************100%***********************]  1 of 1 completed\n",
            "             Open   High    Low  Close  AdjClose    Volume\n",
            "Date                                                      \n",
            "2021-01-04  107.0  114.0  103.0  112.0     112.0  22439600\n",
            "2021-01-05  114.0  115.0  107.0  109.0     109.0  15450800\n",
            "2021-01-06  111.0  117.0  110.0  116.0     116.0  21590900\n",
            "2021-01-07  120.0  123.0  112.0  115.0     115.0  20614100\n",
            "2021-01-08  117.0  118.0  111.0  113.0     113.0  12376900 \n",
            "\n",
            "             Open   High    Low  Close  AdjClose    Volume\n",
            "Date                                                      \n",
            "2021-01-04  157.0  157.0  154.0  156.0     152.0  11765900\n",
            "2021-01-05  156.0  159.0  155.0  158.0     153.0   9602300\n",
            "2021-01-06  157.0  160.0  157.0  160.0     155.0   8230100\n",
            "2021-01-07  159.0  161.0  158.0  160.0     155.0   7747200\n",
            "2021-01-08  161.0  161.0  160.0  160.0     155.0   8228900 \n",
            "\n"
          ]
        },
        {
          "output_type": "display_data",
          "data": {
            "text/plain": [
              "<Figure size 432x288 with 1 Axes>"
            ],
            "image/png": "[encoded data removed]"
          },
          "metadata": {
            "needs_background": "light"
          }
        }
      ]
    },
    {
      "cell_type": "markdown",
      "source": [
        "### Expected Output\n",
        "```\n",
        "[*********************100%***********************]  1 of 1 completed\n",
        "[*********************100%***********************]  1 of 1 completed\n",
        "             Open   High    Low  Close  AdjClose    Volume\n",
        "Date                                                      \n",
        "2021-01-04  107.0  114.0  103.0  112.0     112.0  22439600\n",
        "2021-01-05  114.0  115.0  107.0  109.0     109.0  15450800\n",
        "2021-01-06  111.0  117.0  110.0  116.0     116.0  21590900\n",
        "2021-01-07  120.0  123.0  112.0  115.0     115.0  20614100\n",
        "2021-01-08  117.0  118.0  111.0  113.0     113.0  12376900 \n",
        "\n",
        "             Open   High    Low  Close  AdjClose    Volume\n",
        "Date                                                      \n",
        "2021-01-04  157.0  157.0  154.0  156.0     152.0  11765900\n",
        "2021-01-05  156.0  159.0  155.0  158.0     153.0   9602300\n",
        "2021-01-06  157.0  160.0  157.0  160.0     155.0   8230100\n",
        "2021-01-07  159.0  161.0  158.0  160.0     155.0   7747200\n",
        "2021-01-08  161.0  161.0  160.0  160.0     155.0   8228900 \n",
        "```\n",
        "![stock_performance](https://drive.google.com/uc?id=1i0V_itOoFMM0gXX9PjocPkihuFpKMQIc)"
      ],
      "metadata": {
        "id": "KzkiF_fhndjX"
      }
    }
  ]
}