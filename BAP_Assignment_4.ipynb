{
  "nbformat": 4,
  "nbformat_minor": 0,
  "metadata": {
    "kernelspec": {
      "display_name": "Python 3",
      "language": "python",
      "name": "python3"
    },
    "language_info": {
      "codemirror_mode": {
        "name": "ipython",
        "version": 3
      },
      "file_extension": ".py",
      "mimetype": "text/x-python",
      "name": "python",
      "nbconvert_exporter": "python",
      "pygments_lexer": "ipython3",
      "version": "3.7.1"
    },
    "colab": {
      "name": "Copy of BAP Assignment 4.ipynb",
      "provenance": []
    }
  },
  "cells": [
    {
      "cell_type": "markdown",
      "metadata": {
        "id": "kih3cDoIuTkM"
      },
      "source": [
        "## BAP Assignment 4 "
      ]
    },
    {
      "cell_type": "markdown",
      "metadata": {
        "id": "YQmWgZGquTkO"
      },
      "source": [
        "#### 1. List Operations:  \n",
        "Perform the following operations on the list. Start by printing the initial list that is accepted as the function argument in the last line of this code block.   \n",
        "```\n",
        "['a', ['bb', ['ccc', 'ddd'], 'ee', 'ff'], 'g', ['hh', 'ii'], 'j']\n",
        "```   \n",
        "a. Add the values 'k', 'l', 'm' to the list using one command and print the result.    \n",
        "```\n",
        "['a', ['bb', ['ccc', 'ddd'], 'ee', 'ff'], 'g', ['hh', 'ii'], 'j', 'k', 'l', 'm']\n",
        "``` \n",
        "\n",
        "b. Add the list ['nn','oo'] to the list using one command and print the result.    \n",
        "```\n",
        "['a', ['bb', ['ccc', 'ddd'], 'ee', 'ff'], 'g', ['hh', 'ii'], 'j', 'k', 'l', 'm', ['nn', 'oo']]\n",
        "```   \n",
        "c. Delete the last item from the list and print the result. \n",
        "```\n",
        "['a', ['bb', ['ccc', 'ddd'], 'ee', 'ff'], 'g', ['hh', 'ii'], 'j', 'k', 'l', 'm']\n",
        "```\n",
        "d. Show how to access the value 'ddd' by printing only this value. \n",
        "```\n",
        "ddd\n",
        "```\n",
        "e. Delete the value 'ee' from the list and print the result. \n",
        "```\n",
        "['a', ['bb', ['ccc', 'ddd'], 'ff'], 'g', ['hh', 'ii'], 'j', 'k', 'l', 'm']\n",
        "```"
      ]
    },
    {
      "cell_type": "code",
      "metadata": {
        "id": "ICpkYZKSuTkP",
        "colab": {
          "base_uri": "https://localhost:8080/"
        },
        "outputId": "f3995730-5f6b-4f67-8c97-dd9e65e50f25"
      },
      "source": [
        "def nested_list(lst):\n",
        "    # start by printing the initial state of the list\n",
        "    print(lst)\n",
        "\n",
        "    # a. Add the values 'k', 'l', 'm' to the list using one command\n",
        "    lst.extend(['k','l','m'])\n",
        "    print(lst) \n",
        "    # should return ['a', ['bb', ['ccc', 'ddd'], 'ee', 'ff'], 'g', ['hh', 'ii'], 'j', 'k', 'l', 'm']\n",
        "\n",
        "    # b. Add the list ['nn','oo'] to the list using one command\n",
        "    lst.append(['nn','oo'])\n",
        "    print(lst)\n",
        "    # should return ['a', ['bb', ['ccc', 'ddd'], 'ee', 'ff'], 'g', ['hh', 'ii'], 'j', 'k', 'l', 'm', ['nn', 'oo']]\n",
        "\n",
        "    # c. Delete the last item from the list\n",
        "    lst.pop(-1)\n",
        "    print(lst)\n",
        "    # should return ['a', ['bb', ['ccc', 'ddd'], 'ee', 'ff'], 'g', ['hh', 'ii'], 'j', 'k', 'l', 'm']\n",
        "\n",
        "    # d. Show how to access the value 'ddd' and print this output\n",
        "    print(lst[1][1][1])\n",
        "\n",
        "    # e. Delete the value 'ee' from the list\n",
        "    lst[1].remove('ee')\n",
        "    print(lst)\n",
        "    # should return ['a', ['bb', ['ccc', 'ddd'], 'ff'], 'g', ['hh', 'ii'], 'j', 'k', 'l', 'm']\n",
        "\n",
        "# Run the function using the 'data' object defined below\n",
        "data = ['a', ['bb', ['ccc', 'ddd'], 'ee', 'ff'], 'g', ['hh', 'ii'], 'j']\n",
        "nested_list(data)\n"
      ],
      "execution_count": 30,
      "outputs": [
        {
          "output_type": "stream",
          "name": "stdout",
          "text": [
            "['a', ['bb', ['ccc', 'ddd'], 'ee', 'ff'], 'g', ['hh', 'ii'], 'j']\n",
            "['a', ['bb', ['ccc', 'ddd'], 'ee', 'ff'], 'g', ['hh', 'ii'], 'j', 'k', 'l', 'm']\n",
            "['a', ['bb', ['ccc', 'ddd'], 'ee', 'ff'], 'g', ['hh', 'ii'], 'j', 'k', 'l', 'm', ['nn', 'oo']]\n",
            "['a', ['bb', ['ccc', 'ddd'], 'ee', 'ff'], 'g', ['hh', 'ii'], 'j', 'k', 'l', 'm']\n",
            "ddd\n",
            "['a', ['bb', ['ccc', 'ddd'], 'ff'], 'g', ['hh', 'ii'], 'j', 'k', 'l', 'm']\n"
          ]
        }
      ]
    },
    {
      "cell_type": "markdown",
      "metadata": {
        "id": "06WYFX20uTkX"
      },
      "source": [
        "#### 2. Dictionary Operations\n",
        "Write a function referencing the parameter \"dct\" to perform the following operations. Run the function using the dictionary called \"inventory\" as an argument. \n",
        "\n",
        "Start by printing the original dictionary:\n",
        "```\n",
        "{'iphone': 40, 'ipad': 17, 'macbook': 12, 'monitor': 5}\n",
        "```\n",
        "\n",
        "a.  Add the key value pair \"stylus\": 16 and print the result.     \n",
        "```\n",
        "{'iphone': 40, 'ipad': 17, 'macbook': 12, 'monitor': 5, 'stylus': 16}\n",
        "```\n",
        "b.  Update the ipad inventory to 19 then print the result. \n",
        "```\n",
        "{'iphone': 40, 'ipad': 19, 'macbook': 12, 'monitor': 5, 'stylus': 16}\n",
        "```\n",
        "c.  Remove the key value pair, \"monitor\": 5 then print the result.\n",
        "```\n",
        "{'iphone': 40, 'ipad': 19, 'macbook': 12, 'stylus': 16}\n",
        "```\n",
        "d.  Extract each of the values in the dictionary and add them to the list called counts. Print the counts list. \n",
        "```\n",
        "[40, 19, 12, 16]\n",
        "```"
      ]
    },
    {
      "cell_type": "code",
      "metadata": {
        "id": "mz_CVmyyuTkX",
        "colab": {
          "base_uri": "https://localhost:8080/"
        },
        "outputId": "6cfc2b24-4c5a-433a-d752-d409c4f6a2d8"
      },
      "source": [
        "def dict_operations(dct):\n",
        "    # print the original dictionary\n",
        "    print(dct)\n",
        "\n",
        "    # a. Add the key value pair \"stylus\": 16 \n",
        "    dct['stylus']=16\n",
        "    print(dct)\n",
        "\n",
        "    # b. Update the ipad inventory to 19\n",
        "    dct['ipad']+=2\n",
        "    print(dct)\n",
        "\n",
        "    # c. Remove the key value pair, \"monitor\": 5\n",
        "    del(dct['monitor'])\n",
        "    print(dct)\n",
        "\n",
        "    # d. Extract each of the values in the dictionary and add them to the list called counts\n",
        "    counts=[]\n",
        "    for i in dct:\n",
        "        counts.append(dct[i])\n",
        "    print(counts)\n",
        "\n",
        "# Run the function on the following data\n",
        "inventory = {\n",
        "    \"iphone\": 40,\n",
        "    \"ipad\": 17,\n",
        "    \"macbook\": 12,\n",
        "    \"monitor\": 5    \n",
        "}\n",
        "\n",
        "dict_operations(inventory)\n"
      ],
      "execution_count": 31,
      "outputs": [
        {
          "output_type": "stream",
          "name": "stdout",
          "text": [
            "{'iphone': 40, 'ipad': 17, 'macbook': 12, 'monitor': 5}\n",
            "{'iphone': 40, 'ipad': 17, 'macbook': 12, 'monitor': 5, 'stylus': 16}\n",
            "{'iphone': 40, 'ipad': 19, 'macbook': 12, 'monitor': 5, 'stylus': 16}\n",
            "{'iphone': 40, 'ipad': 19, 'macbook': 12, 'stylus': 16}\n",
            "[40, 19, 12, 16]\n"
          ]
        }
      ]
    },
    {
      "cell_type": "markdown",
      "metadata": {
        "id": "vJ2SXOYAuTkc"
      },
      "source": [
        "#### 3. Extracting Semi-Structured Data\n",
        "\n",
        "For the data structure seen here:\n",
        "\n",
        "```\n",
        "stocks=[\n",
        "    {\n",
        "        \"symbol\": \"ARAY\",\n",
        "        \"sector\": \"healthtechnology\",\n",
        "        \"lastSalePrice\": 4.865\n",
        "    },\n",
        "    {\n",
        "        \"symbol\": \"CPS\",\n",
        "        \"sector\": \"producermanufacturing\",\n",
        "        \"lastSalePrice\": 50.31\n",
        "    },   \n",
        "    {\n",
        "        \"symbol\": \"BOND\",\n",
        "        \"sector\": \"miscellaneous\",\n",
        "        \"lastSalePrice\": 104.8\n",
        "    }  \n",
        "]\n",
        "```\n",
        "Write a program to automate the process seen below. That is write a for loop to achieve the same output. \n",
        "```\n",
        "prices=[]\n",
        "prices.append(stocks[0]['lastSalePrice'])\n",
        "prices.append(stocks[1]['lastSalePrice'])\n",
        "prices.append(stocks[2]['lastSalePrice'])\n",
        "print(prices)\n",
        "```\n",
        "Expected output is:\n",
        "```\n",
        "[4.865, 50.31, 104.8]\n",
        "```"
      ]
    },
    {
      "cell_type": "code",
      "metadata": {
        "id": "N3saTHKzuTkd",
        "colab": {
          "base_uri": "https://localhost:8080/"
        },
        "outputId": "05e17be0-b6d7-4ce8-ce08-28dafd2f33e7"
      },
      "source": [
        "# Nested data\n",
        "\n",
        "def nested_data(dct):\n",
        "    lst=[]\n",
        "    for i in dct:\n",
        "        lst.append(i['lastSalePrice'])\n",
        "    print(lst)\n",
        "\n",
        "# Run the function on the stocks data defined below.\n",
        "\n",
        "stocks=[\n",
        "    {\n",
        "        \"symbol\": \"ARAY\",\n",
        "        \"sector\": \"healthtechnology\",\n",
        "        \"lastSalePrice\": 4.865\n",
        "    },\n",
        "    {\n",
        "        \"symbol\": \"CPS\",\n",
        "        \"sector\": \"producermanufacturing\",\n",
        "        \"lastSalePrice\": 50.31\n",
        "    },   \n",
        "    {\n",
        "        \"symbol\": \"BOND\",\n",
        "        \"sector\": \"miscellaneous\",\n",
        "        \"lastSalePrice\": 104.8\n",
        "    }  \n",
        "]\n",
        "\n",
        "nested_data(stocks)\n"
      ],
      "execution_count": 32,
      "outputs": [
        {
          "output_type": "stream",
          "name": "stdout",
          "text": [
            "[4.865, 50.31, 104.8]\n"
          ]
        }
      ]
    },
    {
      "cell_type": "markdown",
      "metadata": {
        "id": "V6n7U7fyuTko"
      },
      "source": [
        "#### 4.  Converting JSON Data  \n",
        "\n",
        "JSON is a very common format for data on the web because it is so easy to transport, however, we need our data to be in json format in order to perform analysis. \n",
        "\n",
        "a.  Convert the following JSON data into python data. Make sure to import the appropriate library first.  \n",
        "```\n",
        "json_data='[{\"A\": [1,2]}, {\"B\": [3,4]}]'\n",
        "```\n",
        "Check all the data and the data types within the converted data to show that the conversion worked.\n",
        "\n",
        "b.  Convert the following python data into JSON data\n",
        "\n",
        "```\n",
        "stocks=[\n",
        "    {\n",
        "        \"symbol\": \"ARAY\",\n",
        "        \"sector\": \"healthtechnology\",\n",
        "        \"lastSalePrice\": 4.865\n",
        "    },\n",
        "    {\n",
        "        \"symbol\": \"CPS\",\n",
        "        \"sector\": \"producermanufacturing\",\n",
        "        \"lastSalePrice\": 50.31\n",
        "    },   \n",
        "    {\n",
        "        \"symbol\": \"BOND\",\n",
        "        \"sector\": \"miscellaneous\",\n",
        "        \"lastSalePrice\": 104.8\n",
        "    }  \n",
        "]\n",
        "```\n",
        "Check the data type of this data object.\n"
      ]
    },
    {
      "cell_type": "code",
      "metadata": {
        "id": "z5g9T1AUuTkp",
        "colab": {
          "base_uri": "https://localhost:8080/"
        },
        "outputId": "491f443e-27f2-480a-dc0a-7b0eae113785"
      },
      "source": [
        "def convert_to_python(data):\n",
        "    # Load the json library\n",
        "    import json\n",
        "\n",
        "    # a. Convert to a python data object and print the result\n",
        "    python_data=json.loads(data)\n",
        "    print(python_data)\n",
        "\n",
        "    # Check the data types\n",
        "    print(python_data, type(python_data))\n",
        "    print(python_data[0], type(python_data[0]))\n",
        "    print(python_data[0][\"A\"], type(python_data[0][\"A\"]))\n",
        "\n",
        "\n",
        "json_data='[{\"A\": [1,2]}, {\"B\": [3,4]}]'\n",
        "convert_to_python(json_data)"
      ],
      "execution_count": 33,
      "outputs": [
        {
          "output_type": "stream",
          "name": "stdout",
          "text": [
            "[{'A': [1, 2]}, {'B': [3, 4]}]\n",
            "[{'A': [1, 2]}, {'B': [3, 4]}] <class 'list'>\n",
            "{'A': [1, 2]} <class 'dict'>\n",
            "[1, 2] <class 'list'>\n"
          ]
        }
      ]
    },
    {
      "cell_type": "code",
      "metadata": {
        "id": "lJosSQsDuTku",
        "colab": {
          "base_uri": "https://localhost:8080/"
        },
        "outputId": "eff38ee4-b9ca-4342-cf22-044311abffa0"
      },
      "source": [
        "def convert_to_json(data):\n",
        "    # Load the json library\n",
        "    import json\n",
        "\n",
        "    # b. Convert the following to json data\n",
        "\n",
        "\n",
        "    json_stocks=json.dumps(data)\n",
        "\n",
        "    # Print the data and check the data type of the converted data object\n",
        "    print(json_stocks)\n",
        "    print(type(json_stocks))\n",
        "\n",
        "stocks=[\n",
        "    {\n",
        "        \"symbol\": \"ARAY\",\n",
        "        \"sector\": \"healthtechnology\",\n",
        "        \"lastSalePrice\": 4.865\n",
        "    },\n",
        "    {\n",
        "        \"symbol\": \"CPS\",\n",
        "        \"sector\": \"producermanufacturing\",\n",
        "        \"lastSalePrice\": 50.31\n",
        "    },   \n",
        "    {\n",
        "        \"symbol\": \"BOND\",\n",
        "        \"sector\": \"miscellaneous\",\n",
        "        \"lastSalePrice\": 104.8\n",
        "    }  \n",
        "]\n",
        "\n",
        "convert_to_json(stocks)"
      ],
      "execution_count": 34,
      "outputs": [
        {
          "output_type": "stream",
          "name": "stdout",
          "text": [
            "[{\"symbol\": \"ARAY\", \"sector\": \"healthtechnology\", \"lastSalePrice\": 4.865}, {\"symbol\": \"CPS\", \"sector\": \"producermanufacturing\", \"lastSalePrice\": 50.31}, {\"symbol\": \"BOND\", \"sector\": \"miscellaneous\", \"lastSalePrice\": 104.8}]\n",
            "<class 'str'>\n"
          ]
        }
      ]
    },
    {
      "cell_type": "markdown",
      "metadata": {
        "id": "R0DKXdPUuTk1"
      },
      "source": [
        "#### 5.  Extracting JSON data from an API \n",
        "This website, https://domainsdb.info/, allows users to find domain names. Here is the structure of the data in the API:\n",
        "![domains](https://drive.google.com/uc?id=1gnVzeME3rZ9DqNxV1oKNR0UNephbf_Pj)        \n",
        "\n",
        "a. Use the requests library to get the data from the url: https://api.domainsdb.info/v1/domains/search?domain=census. Be sure to convert from JSON format into python data (there are two ways this could be accomplished). Check and print the data type of the object returned by this action. \n",
        "\n",
        "```\n",
        "<class 'dict'> \n",
        "```\n",
        "b. Print all of the keys in the dictionary. \n",
        "\n",
        "```\n",
        "domains\n",
        "total\n",
        "time\n",
        "next_page\n",
        "```\n",
        "\n",
        "c. Access and print the first domain name in the dictionary.   \n",
        "\n",
        "```\n",
        "census-iroda.hu \n",
        "```\n",
        "\n",
        "d. Write a for loop to collect all of the domain names in a list. Print this list. \n",
        "\n",
        "```\n",
        "['census-iroda.hu', 'us-census-bureau.net', 'online-census-survey.net', 'census-online.net', 'census-2021.net',  .....\n",
        "```\n",
        "\n",
        "\n",
        "  "
      ]
    },
    {
      "cell_type": "code",
      "metadata": {
        "id": "sBrx2cVsuTk2",
        "colab": {
          "base_uri": "https://localhost:8080/"
        },
        "outputId": "535c2ded-03fd-4a3b-c3cf-7c41cc01402e"
      },
      "source": [
        "def extract_domains(url):\n",
        "    # get request converted from json\n",
        "    import requests\n",
        "    response=requests.get(url).json()\n",
        "    print(type(response),'\\n')\n",
        "\n",
        "    # b. Print all of the keys\n",
        "    for key in response:\n",
        "        print(key)\n",
        "    print('\\n')\n",
        "\n",
        "    # c. Access the first domain name in the data object.\n",
        "    print(response['domains'][0]['domain'],'\\n')\n",
        "\n",
        "    # d. Collect all of the domain names in a list.\n",
        "\n",
        "    dmn=[]\n",
        "    for i in response['domains']:\n",
        "        dmn.append(i['domain'])\n",
        "    print(dmn)\n",
        "\n",
        "# Run the function with the domain_api as an input\n",
        "domain_api=\"https://api.domainsdb.info/v1/domains/search?domain=census\"\n",
        "extract_domains(domain_api)\n"
      ],
      "execution_count": 35,
      "outputs": [
        {
          "output_type": "stream",
          "name": "stdout",
          "text": [
            "<class 'dict'> \n",
            "\n",
            "domains\n",
            "total\n",
            "time\n",
            "next_page\n",
            "\n",
            "\n",
            "census-iroda.hu \n",
            "\n",
            "['census-iroda.hu', 'us-census-bureau.net', 'online-census-survey.net', 'census-online.net', 'census-2021.net', 'census-info.net', 'census-2020.net', 'census-steuerberatung.net', '2020-census-survey.net', '2020-census-survey-online.net', 'raw-census-auction.store', 'census-update.online', 'census-uk-application.net', 'census-secure.live', 'census-ot.net', 'my-census-2020.us', 'my-census-2020.net', 'census-bureau.us', 'census-2020.us', 'us-census-bureau.us', '2020-us-census-gov.us', 'us-census-bureau-gov.us', 'census-bureau-gov.us', '2020-census-gov.us', 'census-2010.us', 'census-visualization.site', 'census-gov.us', 'census-data.us', 'census-info.us', 'census-records.us', 'census-online.us', 'start-census-online.net', 'respond-to-census-online.net', 'respond-census-online.net', 'online-census-form.net', 'fill-out-census-online.net', 'fill-in-census-online.net', 'complete-census-online.net', 'census-test.net', '2020-census-form.net', '2020-census-form-online.net']\n"
          ]
        }
      ]
    },
    {
      "cell_type": "markdown",
      "metadata": {
        "id": "waoilczQuTl4"
      },
      "source": [
        "#### 6.  Pulling Data from XML\n",
        "We have learned about two common ways of storing web data. Many organizations collect and transport data in XML format. The object of this exercise is to create a function to extract specific data values from an XML tree. The function will be tested on the following XML data. \n",
        "```\n",
        "<Bookstore>\n",
        "   <Book ISBN=\"ISBN-13:978-1599620787\" Price=\"15.23\" Weight=\"1.5\">\n",
        "      <Title>New York Deco</Title>\n",
        "      <Authors>\n",
        "         <Author Residence=\"New York City\">\n",
        "            <First_Name>Richard</First_Name>\n",
        "            <Last_Name>Berenholtz</Last_Name>\n",
        "         </Author>\n",
        "      </Authors>\n",
        "   </Book>\n",
        "   <Book ISBN=\"ISBN-13:978-1579128562\" Price=\"15.80\">\n",
        "      <Remark>\n",
        "      Five Hundred Buildings of New York and over one million other books are available for Amazon Kindle.\n",
        "      </Remark>\n",
        "      <Title>Five Hundred Buildings of New York</Title>\n",
        "      <Authors>\n",
        "         <Author Residence=\"Beijing\">\n",
        "            <First_Name>Bill</First_Name>\n",
        "            <Last_Name>Harris</Last_Name>\n",
        "         </Author>\n",
        "         <Author Residence=\"New York City\">\n",
        "            <First_Name>Jorg</First_Name>\n",
        "            <Last_Name>Brockmann</Last_Name>\n",
        "         </Author>\n",
        "      </Authors>\n",
        "   </Book>\n",
        "</Bookstore>\n",
        "```"
      ]
    },
    {
      "cell_type": "markdown",
      "metadata": {
        "id": "S3buoPy6uTl_"
      },
      "source": [
        "#### Please perform the following\n",
        "a. Print all the element tags in the tree.  \n",
        "```\n",
        "Bookstore\n",
        "Book\n",
        "Title\n",
        "Authors\n",
        "Author\n",
        "First_Name\n",
        "Last_Name\n",
        "Book\n",
        "Remark\n",
        "Title\n",
        "Authors\n",
        "Author\n",
        "First_Name\n",
        "Last_Name\n",
        "Author\n",
        "First_Name\n",
        "Last_Name\n",
        "\n",
        "```\n",
        "b. Print all the author's last names.\n",
        "```\n",
        "Berenholtz\n",
        "Harris\n",
        "Brockmann\n",
        "```\n",
        "c. The following will print the last name of the book that weighs 1.5 units  \n",
        "```\n",
        "print(root.find('Book[@Weight=\"1.5\"]/Authors/Author/Last_Name').text)\n",
        "```\n",
        "Using the above sample code as a reference, identify and print the last name of the author who's residence is Beijing.  \n",
        "```\n",
        "Harris\n",
        "```"
      ]
    },
    {
      "cell_type": "code",
      "metadata": {
        "id": "UAwrAQDxuTl_",
        "colab": {
          "base_uri": "https://localhost:8080/"
        },
        "outputId": "90cb1ce4-e966-460c-e4bf-059ca8b79600"
      },
      "source": [
        "def xml_data_extract(xml_data):\n",
        "    from lxml import etree\n",
        "    root=etree.XML(xml_data)\n",
        "\n",
        "    # a. print all the element tags in the tree, use the iterator function\n",
        "    for i in root.iter():\n",
        "        print(i.tag)\n",
        "    print('\\n')\n",
        "\n",
        "    # b. print all the author's last names  \n",
        "    for i in root.iter('Author'):\n",
        "        print(i.find('Last_Name').text)\n",
        "    print('\\n')\n",
        "\n",
        "    # c. Print the last name of the author who's residence is Beijing\n",
        "    print(root.find('Book/Authors/Author[@Residence = \"Beijing\"]/Last_Name').text)\n",
        "    \n",
        "data_string = \"\"\"\n",
        "<Bookstore>\n",
        "   <Book ISBN=\"ISBN-13:978-1599620787\" Price=\"15.23\" Weight=\"1.5\">\n",
        "      <Title>New York Deco</Title>\n",
        "      <Authors>\n",
        "         <Author Residence=\"New York City\">\n",
        "            <First_Name>Richard</First_Name>\n",
        "            <Last_Name>Berenholtz</Last_Name>\n",
        "         </Author>\n",
        "      </Authors>\n",
        "   </Book>\n",
        "   <Book ISBN=\"ISBN-13:978-1579128562\" Price=\"15.80\">\n",
        "      <Remark>\n",
        "      Five Hundred Buildings of New York and over one million other books are available for Amazon Kindle.\n",
        "      </Remark>\n",
        "      <Title>Five Hundred Buildings of New York</Title>\n",
        "      <Authors>\n",
        "         <Author Residence=\"Beijing\">\n",
        "            <First_Name>Bill</First_Name>\n",
        "            <Last_Name>Harris</Last_Name>\n",
        "         </Author>\n",
        "         <Author Residence=\"New York City\">\n",
        "            <First_Name>Jorg</First_Name>\n",
        "            <Last_Name>Brockmann</Last_Name>\n",
        "         </Author>\n",
        "      </Authors>\n",
        "   </Book>\n",
        "</Bookstore>\n",
        "\"\"\"\n",
        "\n",
        "xml_data_extract(data_string)\n",
        "\n",
        "\n"
      ],
      "execution_count": 36,
      "outputs": [
        {
          "output_type": "stream",
          "name": "stdout",
          "text": [
            "Bookstore\n",
            "Book\n",
            "Title\n",
            "Authors\n",
            "Author\n",
            "First_Name\n",
            "Last_Name\n",
            "Book\n",
            "Remark\n",
            "Title\n",
            "Authors\n",
            "Author\n",
            "First_Name\n",
            "Last_Name\n",
            "Author\n",
            "First_Name\n",
            "Last_Name\n",
            "\n",
            "\n",
            "Berenholtz\n",
            "Harris\n",
            "Brockmann\n",
            "\n",
            "\n",
            "Harris\n"
          ]
        }
      ]
    }
  ]
}