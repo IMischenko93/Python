{
  "nbformat": 4,
  "nbformat_minor": 0,
  "metadata": {
    "kernelspec": {
      "display_name": "Python 3",
      "language": "python",
      "name": "python3"
    },
    "language_info": {
      "codemirror_mode": {
        "name": "ipython",
        "version": 3
      },
      "file_extension": ".py",
      "mimetype": "text/x-python",
      "name": "python",
      "nbconvert_exporter": "python",
      "pygments_lexer": "ipython3",
      "version": "3.7.1"
    },
    "colab": {
      "name": "Copy of BAP_Assignment_2.ipynb",
      "provenance": [],
      "collapsed_sections": []
    }
  },
  "cells": [
    {
      "cell_type": "markdown",
      "metadata": {
        "id": "Sgv-Rg81Rr6A"
      },
      "source": [
        "### Business Application Development\n",
        "### Assignment 2:  Functions \n",
        "Please complete these exercises to the best of your abilities.  Please include code to invoke each of your functions to demonstrate the functionality.  Write comments throughout your code to explain steps.  If you run into a persistent error, please demonstrate your efforts to resolve it; search the web for the error, see if you can get closer to figuring it out.  Document what you tried in order to fix the problem. "
      ]
    },
    {
      "cell_type": "markdown",
      "metadata": {
        "id": "ECYlu9g8I7fH"
      },
      "source": [
        "It is very important to understand the difference between printing and returning output from a function. For most functions, it is desirable to use a return statement. Doing so ensures that the output is usable for additional operations. Sometimes the output of a function is generated using a print statement. This choice is made when the output is static and does not need to interact with any other part of your program. Please see the [video explaining this concept](https://youtu.be/6u_d4nL3xwI). Pay careful attention to the language of the problem so that you can correctly print or return the output."
      ]
    },
    {
      "cell_type": "markdown",
      "metadata": {
        "id": "IJkopS8pRr6D"
      },
      "source": [
        "#### Problem 1 (1 point)\n",
        "Writing basic functions."
      ]
    },
    {
      "cell_type": "markdown",
      "metadata": {
        "id": "794ygeWvJKyq"
      },
      "source": [
        "a. Write a basic function to print the statment \"I can't get enough Python!\""
      ]
    },
    {
      "cell_type": "code",
      "metadata": {
        "id": "x7HcX9lrJLMC",
        "colab": {
          "base_uri": "https://localhost:8080/"
        },
        "outputId": "2a0bd33f-d271-4ea6-c600-1b571a810eff"
      },
      "source": [
        "# a.\n",
        "def statement():\n",
        "    # your code\n",
        "    print(\"I cant get enough Python!\")\n",
        "\n",
        "# run the function\n",
        "statement()"
      ],
      "execution_count": 5,
      "outputs": [
        {
          "output_type": "stream",
          "name": "stdout",
          "text": [
            "I cant get enough Python!\n"
          ]
        }
      ]
    },
    {
      "cell_type": "markdown",
      "source": [
        "Expected Output\n",
        "```\n",
        "I can't get enough Python!\n",
        "None\n",
        "```"
      ],
      "metadata": {
        "id": "9kOwJm5w1Dpk"
      }
    },
    {
      "cell_type": "markdown",
      "metadata": {
        "id": "iVPv8beLRr6E"
      },
      "source": [
        "b. Write a basic function that accepts a name argument and prints \"(name) can't get enough Python!\""
      ]
    },
    {
      "cell_type": "code",
      "metadata": {
        "scrolled": true,
        "id": "z78TDVuLRr6G",
        "colab": {
          "base_uri": "https://localhost:8080/"
        },
        "outputId": "c2e1da45-8fef-4889-ae27-911c152d863d"
      },
      "source": [
        "# b. \n",
        "def statement_arg(n):\n",
        "    # your code\n",
        "    print(n,\"cant cant get enough Python!\")\n",
        "\n",
        "#run the function on the variable defined below\n",
        "name=\"Tina\"\n",
        "\n",
        "statement_arg(name)"
      ],
      "execution_count": 4,
      "outputs": [
        {
          "output_type": "stream",
          "name": "stdout",
          "text": [
            "Tina cant cant get enough Python!\n"
          ]
        }
      ]
    },
    {
      "cell_type": "markdown",
      "source": [
        "Expected Output\n",
        "```\n",
        "Tina can't get enough Python!\n",
        "```"
      ],
      "metadata": {
        "id": "fwITFn2w1QMA"
      }
    },
    {
      "cell_type": "markdown",
      "metadata": {
        "id": "6-4MbCpRRr6a"
      },
      "source": [
        "#### Problem 2 (2 points)\n",
        "Write a function that accepts the purchase price of a stock and a closing price and returns the percent change. Wrap your final output with the round() or the int() function in order to return an integer value.   "
      ]
    },
    {
      "cell_type": "code",
      "metadata": {
        "id": "zAXgFtWURr6b",
        "colab": {
          "base_uri": "https://localhost:8080/"
        },
        "outputId": "7de06011-c6f9-4176-be69-9a8e1e9855cb"
      },
      "source": [
        "def percent_change(purchase_price,closing_price):\n",
        "    # your code\n",
        "    pc=((closing_price - purchase_price)/purchase_price)*100\n",
        "    return pc\n",
        "\n",
        "\n",
        "# run the function on the variables defined below\n",
        "purchase=3.4\n",
        "close=9.2\n",
        "x=percent_change(purchase,close)\n",
        "print(\"The percent change is\", round(x),\"%\")\n",
        "print(round(x))"
      ],
      "execution_count": 9,
      "outputs": [
        {
          "output_type": "stream",
          "name": "stdout",
          "text": [
            "The percent change is 171 %\n",
            "171\n"
          ]
        }
      ]
    },
    {
      "cell_type": "markdown",
      "source": [
        "Expected Output\n",
        "```\n",
        "The percent change is 171 %\n",
        "171\n",
        "```"
      ],
      "metadata": {
        "id": "CUQQPujl1dw7"
      }
    },
    {
      "cell_type": "markdown",
      "metadata": {
        "id": "IFESHW0pRr6k"
      },
      "source": [
        "#### Problem 3 (2 points)\n",
        "Write a function that accepts a list of data values and returns a summary that includes the mean, standard deviation, minimum, 25th percentile, median, 75th percentile, and maximum. You will need to import the numpy library in order to calculate the percentile.  Do a little bit of research.  In your function, also include printed statements (as seen in the expected output) that makes the output more meaningful.  "
      ]
    },
    {
      "cell_type": "markdown",
      "metadata": {
        "id": "pT2mkfEdGZ3z"
      },
      "source": [
        "This is a good opportunity to take a look at the [documentation for the numpy library](https://numpy.org/doc/stable/reference/generated/numpy.percentile.html). Note that the percentile function acccepts two arguments the data and the desired percentile.  "
      ]
    },
    {
      "cell_type": "code",
      "metadata": {
        "id": "iOS9O3JRRr6n",
        "colab": {
          "base_uri": "https://localhost:8080/"
        },
        "outputId": "732f12db-e8a6-4dd3-dd51-00c40516b0a6"
      },
      "source": [
        "# import the necessary tools from the numpy library\n",
        "def summary(data):\n",
        "    # your code\n",
        "    import numpy as np\n",
        "    m=np.mean(data)\n",
        "    s=np.std(data)\n",
        "    min=np.min(data)\n",
        "    p1=np.percentile(data,25)\n",
        "    med=np.median(data)\n",
        "    p3=np.percentile(data,75)\n",
        "    max=np.max(data)\n",
        "\n",
        "    print(\"mean;\",round(m,1))\n",
        "    print(\"Standard Deviation:\",round(s,1))\n",
        "    print(\"Minimum:\",round(min,1))\n",
        "    print(\"25th percentile:\",round(p1,1))\n",
        "    print(\"Median:\",round(med,1))\n",
        "    print(\"75th percentile:\",round(p3,1))\n",
        "    print(\"Maxiumum:\",round(max,1))\n",
        "    \n",
        "    return m,round(s,1),min,p1,med,p3,max\n",
        "\n",
        "# run the function on the data object defined below\n",
        "x = [4.5, 6, 7, 18, 6.2, 11.6, 24.3, 8.4, 10.3]\n",
        "\n",
        "summary([4.5, 6, 7, 18, 6.2, 11.6, 24.3, 8.4, 10.3])"
      ],
      "execution_count": 16,
      "outputs": [
        {
          "output_type": "stream",
          "name": "stdout",
          "text": [
            "mean; 10.7\n",
            "Standard Deviation: 6.1\n",
            "Minimum: 4.5\n",
            "25th percentile: 6.2\n",
            "Median: 8.4\n",
            "75th percentile: 11.6\n",
            "Maxiumum: 24.3\n"
          ]
        },
        {
          "output_type": "execute_result",
          "data": {
            "text/plain": [
              "(10.7, 6.1, 4.5, 6.2, 8.4, 11.6, 24.3)"
            ]
          },
          "metadata": {},
          "execution_count": 16
        }
      ]
    },
    {
      "cell_type": "markdown",
      "source": [
        "Expected Output\n",
        "```\n",
        "mean: 10.7\n",
        "standard deviation: 6.1\n",
        "minimum: 4.5\n",
        "25th percentile: 6.2\n",
        "median: 8.4\n",
        "75th percentile: 11.6\n",
        "maximum: 24.3\n",
        "(10.7, 6.1, 4.5, 6.2, 8.4, 11.6, 24.3)\n",
        "```"
      ],
      "metadata": {
        "id": "Ft8Ogg0m1t4p"
      }
    },
    {
      "cell_type": "markdown",
      "metadata": {
        "id": "gPvHRdAGRr6x"
      },
      "source": [
        "#### Problem 4 (3 points)\n",
        "Write a function that accepts a price for a restaurant bill, a sales tax, and a tip.  The function should calculate and return the amount a customer will have to pay after adding the sales tax and tip.  Make the default sales tax .0625 and the default tip .15. "
      ]
    },
    {
      "cell_type": "code",
      "metadata": {
        "id": "fALemJZIRr6z",
        "colab": {
          "base_uri": "https://localhost:8080/"
        },
        "outputId": "023621cf-0908-40d8-c499-63e298c5883d"
      },
      "source": [
        "tax=.0625\n",
        "tip=.15\n",
        "def calculate_bill(bill,tax,tip):\n",
        "    post_tax=((bill*tax)+bill)\n",
        "    final_amt=round((post_tax*tip)+post_tax,2)\n",
        "    return final_amt\n",
        "\n",
        "print(calculate_bill(20,tax,tip))\n",
        "print(calculate_bill(20,.085,.18))\n",
        "\n",
        "# run the function on the variables defined below\n",
        "# print(calculate_bill(20)) # 24.44\n",
        "# print(calculate_bill(20, .085, .18)) # 25.61\n"
      ],
      "execution_count": 22,
      "outputs": [
        {
          "output_type": "stream",
          "name": "stdout",
          "text": [
            "24.44\n",
            "25.61\n"
          ]
        }
      ]
    },
    {
      "cell_type": "markdown",
      "source": [
        "Expected Output\n",
        "```\n",
        "24.44\n",
        "25.61\n",
        "```"
      ],
      "metadata": {
        "id": "SwQvyCMj1_Kf"
      }
    },
    {
      "cell_type": "markdown",
      "metadata": {
        "id": "URqRx50IRr7D"
      },
      "source": [
        "#### Problem 5 (2 points)\n",
        "Write a function that takes in the purchase price and the current price of a certain stock.  If the stock's value has decreased by more than 10% or increased by more than 20%, return Boolean value True. Otherwise return the Boolean value False. "
      ]
    },
    {
      "cell_type": "code",
      "metadata": {
        "id": "7NXnpQYoRr7E",
        "colab": {
          "base_uri": "https://localhost:8080/"
        },
        "outputId": "989417fe-4ff0-41c8-c621-2aa42264bb6a"
      },
      "source": [
        "def check_price(purchase,current):\n",
        "    # your code\n",
        "    pct_change = ((current-purchase)/purchase)*100\n",
        "    if pct_change < -10 or pct_change >20:\n",
        "      return True\n",
        "    else:\n",
        "      return False\n",
        "\n",
        "\n",
        "\n",
        "# run the function on the variables defined below\n",
        "purchase=10\n",
        "current=13\n",
        "\n",
        "check_price(purchase,current)"
      ],
      "execution_count": 50,
      "outputs": [
        {
          "output_type": "execute_result",
          "data": {
            "text/plain": [
              "True"
            ]
          },
          "metadata": {},
          "execution_count": 50
        }
      ]
    },
    {
      "cell_type": "markdown",
      "source": [
        "Expected Output\n",
        "```\n",
        "True\n",
        "```"
      ],
      "metadata": {
        "id": "VpS8IhMZ2N51"
      }
    },
    {
      "cell_type": "markdown",
      "metadata": {
        "id": "37iBl_m-Rr7V"
      },
      "source": [
        "#### Problem 6  - *optional challenge*\n",
        "Write a function that accepts a positive number and formats it into a string in monetary format correctly representing the dollar and cent amounts.   For example:\n",
        "\n",
        "```\n",
        "money_format(3510000.159897)\n",
        "```\n",
        "should return\n",
        "```\n",
        "  '3,510,000.16'\n",
        "```\n",
        "You will need to do some research first to find a prebuilt function to accomplish this. Do not attempt to write a function to perform this task unless you have a lot of time on your hand. \n",
        "\n",
        "See https://www.geeksforgeeks.org/python-format-function/"
      ]
    },
    {
      "cell_type": "code",
      "metadata": {
        "id": "GcTvpBS-Rr7W"
      },
      "source": [
        "# # investigating the format method\n",
        "\n",
        "# # your code\n",
        "# ----\n",
        "\n",
        "# # run the function on the variable defined below\n",
        "# num=3510000.159897\n",
        "\n",
        "# ----\n",
        "\n",
        "\n",
        "\n"
      ],
      "execution_count": null,
      "outputs": []
    }
  ]
}